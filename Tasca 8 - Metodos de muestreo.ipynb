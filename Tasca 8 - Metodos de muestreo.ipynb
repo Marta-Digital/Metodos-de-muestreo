{
 "cells": [
  {
   "cell_type": "markdown",
   "metadata": {},
   "source": [
    "![logo](banner.jpg)"
   ]
  },
  {
   "cell_type": "markdown",
   "metadata": {},
   "source": [
    "<h1><center><span style=\"color:blue\">TASCA 8 - IT Academy</span></center></h1>\n",
    "<h2><center><span style=\"color:blue\">Curs Data Science</span></center></h2>"
   ]
  },
  {
   "cell_type": "code",
   "execution_count": 225,
   "metadata": {},
   "outputs": [],
   "source": [
    "import pandas as pd\n",
    "import numpy as np\n",
    "from numpy import random\n",
    "import pandas as pd\n",
    "from datetime import datetime\n",
    "from sklearn.model_selection import train_test_split\n",
    "import matplotlib.pyplot as plt"
   ]
  },
  {
   "cell_type": "code",
   "execution_count": 80,
   "metadata": {},
   "outputs": [
    {
     "data": {
      "text/html": [
       "<div>\n",
       "<style scoped>\n",
       "    .dataframe tbody tr th:only-of-type {\n",
       "        vertical-align: middle;\n",
       "    }\n",
       "\n",
       "    .dataframe tbody tr th {\n",
       "        vertical-align: top;\n",
       "    }\n",
       "\n",
       "    .dataframe thead th {\n",
       "        text-align: right;\n",
       "    }\n",
       "</style>\n",
       "<table border=\"1\" class=\"dataframe\">\n",
       "  <thead>\n",
       "    <tr style=\"text-align: right;\">\n",
       "      <th></th>\n",
       "      <th>ID</th>\n",
       "      <th>Name</th>\n",
       "      <th>Sex</th>\n",
       "      <th>Age</th>\n",
       "      <th>Height</th>\n",
       "      <th>Weight</th>\n",
       "      <th>Team</th>\n",
       "      <th>NOC</th>\n",
       "      <th>Games</th>\n",
       "      <th>Year</th>\n",
       "      <th>Season</th>\n",
       "      <th>City</th>\n",
       "      <th>Sport</th>\n",
       "      <th>Event</th>\n",
       "      <th>Medal</th>\n",
       "    </tr>\n",
       "  </thead>\n",
       "  <tbody>\n",
       "    <tr>\n",
       "      <th>0</th>\n",
       "      <td>1</td>\n",
       "      <td>A Dijiang</td>\n",
       "      <td>M</td>\n",
       "      <td>24.0</td>\n",
       "      <td>180.0</td>\n",
       "      <td>80.0</td>\n",
       "      <td>China</td>\n",
       "      <td>CHN</td>\n",
       "      <td>1992 Summer</td>\n",
       "      <td>1992</td>\n",
       "      <td>Summer</td>\n",
       "      <td>Barcelona</td>\n",
       "      <td>Basketball</td>\n",
       "      <td>Basketball Men's Basketball</td>\n",
       "      <td>NaN</td>\n",
       "    </tr>\n",
       "    <tr>\n",
       "      <th>1</th>\n",
       "      <td>2</td>\n",
       "      <td>A Lamusi</td>\n",
       "      <td>M</td>\n",
       "      <td>23.0</td>\n",
       "      <td>170.0</td>\n",
       "      <td>60.0</td>\n",
       "      <td>China</td>\n",
       "      <td>CHN</td>\n",
       "      <td>2012 Summer</td>\n",
       "      <td>2012</td>\n",
       "      <td>Summer</td>\n",
       "      <td>London</td>\n",
       "      <td>Judo</td>\n",
       "      <td>Judo Men's Extra-Lightweight</td>\n",
       "      <td>NaN</td>\n",
       "    </tr>\n",
       "    <tr>\n",
       "      <th>2</th>\n",
       "      <td>3</td>\n",
       "      <td>Gunnar Nielsen Aaby</td>\n",
       "      <td>M</td>\n",
       "      <td>24.0</td>\n",
       "      <td>NaN</td>\n",
       "      <td>NaN</td>\n",
       "      <td>Denmark</td>\n",
       "      <td>DEN</td>\n",
       "      <td>1920 Summer</td>\n",
       "      <td>1920</td>\n",
       "      <td>Summer</td>\n",
       "      <td>Antwerpen</td>\n",
       "      <td>Football</td>\n",
       "      <td>Football Men's Football</td>\n",
       "      <td>NaN</td>\n",
       "    </tr>\n",
       "    <tr>\n",
       "      <th>3</th>\n",
       "      <td>4</td>\n",
       "      <td>Edgar Lindenau Aabye</td>\n",
       "      <td>M</td>\n",
       "      <td>34.0</td>\n",
       "      <td>NaN</td>\n",
       "      <td>NaN</td>\n",
       "      <td>Denmark/Sweden</td>\n",
       "      <td>DEN</td>\n",
       "      <td>1900 Summer</td>\n",
       "      <td>1900</td>\n",
       "      <td>Summer</td>\n",
       "      <td>Paris</td>\n",
       "      <td>Tug-Of-War</td>\n",
       "      <td>Tug-Of-War Men's Tug-Of-War</td>\n",
       "      <td>Gold</td>\n",
       "    </tr>\n",
       "    <tr>\n",
       "      <th>4</th>\n",
       "      <td>5</td>\n",
       "      <td>Christine Jacoba Aaftink</td>\n",
       "      <td>F</td>\n",
       "      <td>21.0</td>\n",
       "      <td>185.0</td>\n",
       "      <td>82.0</td>\n",
       "      <td>Netherlands</td>\n",
       "      <td>NED</td>\n",
       "      <td>1988 Winter</td>\n",
       "      <td>1988</td>\n",
       "      <td>Winter</td>\n",
       "      <td>Calgary</td>\n",
       "      <td>Speed Skating</td>\n",
       "      <td>Speed Skating Women's 500 metres</td>\n",
       "      <td>NaN</td>\n",
       "    </tr>\n",
       "  </tbody>\n",
       "</table>\n",
       "</div>"
      ],
      "text/plain": [
       "   ID                      Name Sex   Age  Height  Weight            Team  \\\n",
       "0   1                 A Dijiang   M  24.0   180.0    80.0           China   \n",
       "1   2                  A Lamusi   M  23.0   170.0    60.0           China   \n",
       "2   3       Gunnar Nielsen Aaby   M  24.0     NaN     NaN         Denmark   \n",
       "3   4      Edgar Lindenau Aabye   M  34.0     NaN     NaN  Denmark/Sweden   \n",
       "4   5  Christine Jacoba Aaftink   F  21.0   185.0    82.0     Netherlands   \n",
       "\n",
       "   NOC        Games  Year  Season       City          Sport  \\\n",
       "0  CHN  1992 Summer  1992  Summer  Barcelona     Basketball   \n",
       "1  CHN  2012 Summer  2012  Summer     London           Judo   \n",
       "2  DEN  1920 Summer  1920  Summer  Antwerpen       Football   \n",
       "3  DEN  1900 Summer  1900  Summer      Paris     Tug-Of-War   \n",
       "4  NED  1988 Winter  1988  Winter    Calgary  Speed Skating   \n",
       "\n",
       "                              Event Medal  \n",
       "0       Basketball Men's Basketball   NaN  \n",
       "1      Judo Men's Extra-Lightweight   NaN  \n",
       "2           Football Men's Football   NaN  \n",
       "3       Tug-Of-War Men's Tug-Of-War  Gold  \n",
       "4  Speed Skating Women's 500 metres   NaN  "
      ]
     },
     "execution_count": 80,
     "metadata": {},
     "output_type": "execute_result"
    }
   ],
   "source": [
    "file = pd.read_csv('athlete_events.csv')\n",
    "file.head()"
   ]
  },
  {
   "cell_type": "code",
   "execution_count": 4,
   "metadata": {},
   "outputs": [
    {
     "data": {
      "text/plain": [
       "(271116, 15)"
      ]
     },
     "execution_count": 4,
     "metadata": {},
     "output_type": "execute_result"
    }
   ],
   "source": [
    "file.shape"
   ]
  },
  {
   "cell_type": "code",
   "execution_count": 5,
   "metadata": {},
   "outputs": [
    {
     "data": {
      "text/plain": [
       "Index(['ID', 'Name', 'Sex', 'Age', 'Height', 'Weight', 'Team', 'NOC', 'Games',\n",
       "       'Year', 'Season', 'City', 'Sport', 'Event', 'Medal'],\n",
       "      dtype='object')"
      ]
     },
     "execution_count": 5,
     "metadata": {},
     "output_type": "execute_result"
    }
   ],
   "source": [
    "file.columns"
   ]
  },
  {
   "cell_type": "code",
   "execution_count": 6,
   "metadata": {},
   "outputs": [
    {
     "data": {
      "text/plain": [
       "pandas.core.frame.DataFrame"
      ]
     },
     "execution_count": 6,
     "metadata": {},
     "output_type": "execute_result"
    }
   ],
   "source": [
    "type(file)"
   ]
  },
  {
   "cell_type": "code",
   "execution_count": 7,
   "metadata": {},
   "outputs": [
    {
     "data": {
      "text/plain": [
       "(271116, 15)"
      ]
     },
     "execution_count": 7,
     "metadata": {},
     "output_type": "execute_result"
    }
   ],
   "source": [
    "file.shape"
   ]
  },
  {
   "cell_type": "code",
   "execution_count": 8,
   "metadata": {},
   "outputs": [
    {
     "name": "stdout",
     "output_type": "stream",
     "text": [
      "<class 'pandas.core.frame.DataFrame'>\n",
      "RangeIndex: 271116 entries, 0 to 271115\n",
      "Data columns (total 15 columns):\n",
      " #   Column  Non-Null Count   Dtype  \n",
      "---  ------  --------------   -----  \n",
      " 0   ID      271116 non-null  int64  \n",
      " 1   Name    271116 non-null  object \n",
      " 2   Sex     271116 non-null  object \n",
      " 3   Age     261642 non-null  float64\n",
      " 4   Height  210945 non-null  float64\n",
      " 5   Weight  208241 non-null  float64\n",
      " 6   Team    271116 non-null  object \n",
      " 7   NOC     271116 non-null  object \n",
      " 8   Games   271116 non-null  object \n",
      " 9   Year    271116 non-null  int64  \n",
      " 10  Season  271116 non-null  object \n",
      " 11  City    271116 non-null  object \n",
      " 12  Sport   271116 non-null  object \n",
      " 13  Event   271116 non-null  object \n",
      " 14  Medal   39783 non-null   object \n",
      "dtypes: float64(3), int64(2), object(10)\n",
      "memory usage: 31.0+ MB\n"
     ]
    }
   ],
   "source": [
    "file.info()"
   ]
  },
  {
   "cell_type": "markdown",
   "metadata": {},
   "source": [
    "### <span style=\"color:black\">Exercici 1.</span>"
   ]
  },
  {
   "cell_type": "markdown",
   "metadata": {},
   "source": [
    "__Agafa un conjunt de dades de tema esportiu que t'agradi. Realitza un mostreig de les dades generant una mostra aleatòria simple i una mostra sistemàtica:__ <span style=\"color:blue\">__[X] Fet__</span>"
   ]
  },
  {
   "cell_type": "code",
   "execution_count": null,
   "metadata": {},
   "outputs": [],
   "source": [
    "# MUESTREO ALEATORIO SIMPLE\n",
    "# Vamos a seleccionar nuestra muestra e intentar averiguar la estatura media de los jugadores olímpicos"
   ]
  },
  {
   "cell_type": "code",
   "execution_count": 30,
   "metadata": {},
   "outputs": [],
   "source": [
    "file['Height'] = file['Height'].fillna(file['Height'].mean())"
   ]
  },
  {
   "cell_type": "code",
   "execution_count": 66,
   "metadata": {},
   "outputs": [],
   "source": [
    "# Para nuestra muestra, seleccionamos aproximadamente el 10% de la población.\n",
    "\n",
    "population = file\n",
    "k = 2800\n",
    "dbSample = population.sample(k)"
   ]
  },
  {
   "cell_type": "code",
   "execution_count": 32,
   "metadata": {},
   "outputs": [
    {
     "data": {
      "text/plain": [
       "(2800, 15)"
      ]
     },
     "execution_count": 32,
     "metadata": {},
     "output_type": "execute_result"
    }
   ],
   "source": [
    "dbSample.shape"
   ]
  },
  {
   "cell_type": "code",
   "execution_count": 33,
   "metadata": {},
   "outputs": [
    {
     "data": {
      "text/html": [
       "<div>\n",
       "<style scoped>\n",
       "    .dataframe tbody tr th:only-of-type {\n",
       "        vertical-align: middle;\n",
       "    }\n",
       "\n",
       "    .dataframe tbody tr th {\n",
       "        vertical-align: top;\n",
       "    }\n",
       "\n",
       "    .dataframe thead th {\n",
       "        text-align: right;\n",
       "    }\n",
       "</style>\n",
       "<table border=\"1\" class=\"dataframe\">\n",
       "  <thead>\n",
       "    <tr style=\"text-align: right;\">\n",
       "      <th></th>\n",
       "      <th>ID</th>\n",
       "      <th>Age</th>\n",
       "      <th>Height</th>\n",
       "      <th>Weight</th>\n",
       "      <th>Year</th>\n",
       "    </tr>\n",
       "  </thead>\n",
       "  <tbody>\n",
       "    <tr>\n",
       "      <th>count</th>\n",
       "      <td>2800.00</td>\n",
       "      <td>2689.00</td>\n",
       "      <td>2800.00</td>\n",
       "      <td>2118.0</td>\n",
       "      <td>2800.00</td>\n",
       "    </tr>\n",
       "    <tr>\n",
       "      <th>mean</th>\n",
       "      <td>68650.65</td>\n",
       "      <td>25.70</td>\n",
       "      <td>175.24</td>\n",
       "      <td>70.5</td>\n",
       "      <td>1977.12</td>\n",
       "    </tr>\n",
       "    <tr>\n",
       "      <th>std</th>\n",
       "      <td>38705.04</td>\n",
       "      <td>6.52</td>\n",
       "      <td>9.06</td>\n",
       "      <td>13.9</td>\n",
       "      <td>30.70</td>\n",
       "    </tr>\n",
       "    <tr>\n",
       "      <th>min</th>\n",
       "      <td>20.00</td>\n",
       "      <td>13.00</td>\n",
       "      <td>136.00</td>\n",
       "      <td>30.0</td>\n",
       "      <td>1896.00</td>\n",
       "    </tr>\n",
       "    <tr>\n",
       "      <th>25%</th>\n",
       "      <td>35604.00</td>\n",
       "      <td>21.00</td>\n",
       "      <td>170.00</td>\n",
       "      <td>61.0</td>\n",
       "      <td>1960.00</td>\n",
       "    </tr>\n",
       "    <tr>\n",
       "      <th>50%</th>\n",
       "      <td>68782.00</td>\n",
       "      <td>25.00</td>\n",
       "      <td>175.34</td>\n",
       "      <td>70.0</td>\n",
       "      <td>1984.00</td>\n",
       "    </tr>\n",
       "    <tr>\n",
       "      <th>75%</th>\n",
       "      <td>102165.00</td>\n",
       "      <td>28.00</td>\n",
       "      <td>180.00</td>\n",
       "      <td>79.0</td>\n",
       "      <td>2002.00</td>\n",
       "    </tr>\n",
       "    <tr>\n",
       "      <th>max</th>\n",
       "      <td>135422.00</td>\n",
       "      <td>74.00</td>\n",
       "      <td>217.00</td>\n",
       "      <td>137.5</td>\n",
       "      <td>2016.00</td>\n",
       "    </tr>\n",
       "  </tbody>\n",
       "</table>\n",
       "</div>"
      ],
      "text/plain": [
       "              ID      Age   Height  Weight     Year\n",
       "count    2800.00  2689.00  2800.00  2118.0  2800.00\n",
       "mean    68650.65    25.70   175.24    70.5  1977.12\n",
       "std     38705.04     6.52     9.06    13.9    30.70\n",
       "min        20.00    13.00   136.00    30.0  1896.00\n",
       "25%     35604.00    21.00   170.00    61.0  1960.00\n",
       "50%     68782.00    25.00   175.34    70.0  1984.00\n",
       "75%    102165.00    28.00   180.00    79.0  2002.00\n",
       "max    135422.00    74.00   217.00   137.5  2016.00"
      ]
     },
     "execution_count": 33,
     "metadata": {},
     "output_type": "execute_result"
    }
   ],
   "source": [
    "dbSample.describe().round(2) # La estatura media es de 175.24 cm"
   ]
  },
  {
   "cell_type": "code",
   "execution_count": null,
   "metadata": {},
   "outputs": [],
   "source": [
    "# MUESTREO SISTEMÁTICO\n",
    "# Vamos a seleccionar los sujetos (columna 'Nombre') de nuestra población y averiguar de nuevo la estatura media \n",
    "# con el método de muestreo sistemático."
   ]
  },
  {
   "cell_type": "code",
   "execution_count": 57,
   "metadata": {},
   "outputs": [],
   "source": [
    "def systematic_sampling(file, step):\n",
    "    \n",
    "    indexes = np.arange(0,len(file),step=step)\n",
    "    systematic_sample = file.iloc[indexes]\n",
    "    return systematic_sample"
   ]
  },
  {
   "cell_type": "code",
   "execution_count": 62,
   "metadata": {},
   "outputs": [],
   "source": [
    "sistematico = systematic_sampling(file, 50)"
   ]
  },
  {
   "cell_type": "code",
   "execution_count": 63,
   "metadata": {},
   "outputs": [
    {
     "data": {
      "text/plain": [
       "(5423, 15)"
      ]
     },
     "execution_count": 63,
     "metadata": {},
     "output_type": "execute_result"
    }
   ],
   "source": [
    "sistematico.shape"
   ]
  },
  {
   "cell_type": "code",
   "execution_count": 65,
   "metadata": {},
   "outputs": [
    {
     "data": {
      "text/plain": [
       "175.24"
      ]
     },
     "execution_count": 65,
     "metadata": {},
     "output_type": "execute_result"
    }
   ],
   "source": [
    "sistematico['Height'].mean().round(2) # El resultado de la media de altura de jugadores olímpicos es la misma"
   ]
  },
  {
   "cell_type": "markdown",
   "metadata": {},
   "source": [
    "### <span style=\"color:black\">Exercici 2.</span>"
   ]
  },
  {
   "cell_type": "markdown",
   "metadata": {},
   "source": [
    "__Continua amb el conjunt de dades de tema esportiu i genera una mostra estratificada i una mostra utilitzant SMOTE (Synthetic Minority Oversampling Technique):__ <span style=\"color:blue\">__[X] Fet__</span>\n"
   ]
  },
  {
   "cell_type": "code",
   "execution_count": null,
   "metadata": {},
   "outputs": [],
   "source": [
    "# GENERANT UNA MOSTRA ESTRATIFICADA #"
   ]
  },
  {
   "cell_type": "code",
   "execution_count": 5,
   "metadata": {},
   "outputs": [],
   "source": [
    "from sklearn.model_selection import train_test_split"
   ]
  },
  {
   "cell_type": "code",
   "execution_count": 103,
   "metadata": {},
   "outputs": [
    {
     "data": {
      "text/html": [
       "<div>\n",
       "<style scoped>\n",
       "    .dataframe tbody tr th:only-of-type {\n",
       "        vertical-align: middle;\n",
       "    }\n",
       "\n",
       "    .dataframe tbody tr th {\n",
       "        vertical-align: top;\n",
       "    }\n",
       "\n",
       "    .dataframe thead th {\n",
       "        text-align: right;\n",
       "    }\n",
       "</style>\n",
       "<table border=\"1\" class=\"dataframe\">\n",
       "  <thead>\n",
       "    <tr style=\"text-align: right;\">\n",
       "      <th></th>\n",
       "      <th></th>\n",
       "      <th>ID</th>\n",
       "      <th>Name</th>\n",
       "      <th>Sex</th>\n",
       "      <th>Age</th>\n",
       "      <th>Height</th>\n",
       "      <th>Weight</th>\n",
       "      <th>Team</th>\n",
       "      <th>NOC</th>\n",
       "      <th>Games</th>\n",
       "      <th>Year</th>\n",
       "      <th>Season</th>\n",
       "      <th>City</th>\n",
       "      <th>Sport</th>\n",
       "      <th>Event</th>\n",
       "      <th>Medal</th>\n",
       "    </tr>\n",
       "    <tr>\n",
       "      <th>Year</th>\n",
       "      <th></th>\n",
       "      <th></th>\n",
       "      <th></th>\n",
       "      <th></th>\n",
       "      <th></th>\n",
       "      <th></th>\n",
       "      <th></th>\n",
       "      <th></th>\n",
       "      <th></th>\n",
       "      <th></th>\n",
       "      <th></th>\n",
       "      <th></th>\n",
       "      <th></th>\n",
       "      <th></th>\n",
       "      <th></th>\n",
       "      <th></th>\n",
       "    </tr>\n",
       "  </thead>\n",
       "  <tbody>\n",
       "    <tr>\n",
       "      <th rowspan=\"4\" valign=\"top\">1896</th>\n",
       "      <th>97184</th>\n",
       "      <td>49185</td>\n",
       "      <td>Fritz Hofmann</td>\n",
       "      <td>M</td>\n",
       "      <td>24.0</td>\n",
       "      <td>167.00000</td>\n",
       "      <td>56.0</td>\n",
       "      <td>Germany</td>\n",
       "      <td>GER</td>\n",
       "      <td>1896 Summer</td>\n",
       "      <td>1896</td>\n",
       "      <td>Summer</td>\n",
       "      <td>Athina</td>\n",
       "      <td>Athletics</td>\n",
       "      <td>Athletics Men's Triple Jump</td>\n",
       "      <td>NaN</td>\n",
       "    </tr>\n",
       "    <tr>\n",
       "      <th>188549</th>\n",
       "      <td>94715</td>\n",
       "      <td>Periklis Pierrakos-Mavromikhalis</td>\n",
       "      <td>M</td>\n",
       "      <td>NaN</td>\n",
       "      <td>175.33897</td>\n",
       "      <td>NaN</td>\n",
       "      <td>Greece</td>\n",
       "      <td>GRE</td>\n",
       "      <td>1896 Summer</td>\n",
       "      <td>1896</td>\n",
       "      <td>Summer</td>\n",
       "      <td>Athina</td>\n",
       "      <td>Fencing</td>\n",
       "      <td>Fencing Men's Foil, Individual</td>\n",
       "      <td>Bronze</td>\n",
       "    </tr>\n",
       "    <tr>\n",
       "      <th>258382</th>\n",
       "      <td>129377</td>\n",
       "      <td>Hermann Otto Ludwig Weingrtner</td>\n",
       "      <td>M</td>\n",
       "      <td>31.0</td>\n",
       "      <td>175.33897</td>\n",
       "      <td>NaN</td>\n",
       "      <td>Germany</td>\n",
       "      <td>GER</td>\n",
       "      <td>1896 Summer</td>\n",
       "      <td>1896</td>\n",
       "      <td>Summer</td>\n",
       "      <td>Athina</td>\n",
       "      <td>Gymnastics</td>\n",
       "      <td>Gymnastics Men's Horse Vault</td>\n",
       "      <td>Bronze</td>\n",
       "    </tr>\n",
       "    <tr>\n",
       "      <th>117038</th>\n",
       "      <td>59266</td>\n",
       "      <td>Spyridon P. \"Spyros\" Khazapis</td>\n",
       "      <td>M</td>\n",
       "      <td>NaN</td>\n",
       "      <td>175.33897</td>\n",
       "      <td>NaN</td>\n",
       "      <td>Greece</td>\n",
       "      <td>GRE</td>\n",
       "      <td>1896 Summer</td>\n",
       "      <td>1896</td>\n",
       "      <td>Summer</td>\n",
       "      <td>Athina</td>\n",
       "      <td>Swimming</td>\n",
       "      <td>Swimming Men's 100 metres Freestyle For Sailors</td>\n",
       "      <td>Silver</td>\n",
       "    </tr>\n",
       "    <tr>\n",
       "      <th>1900</th>\n",
       "      <th>26977</th>\n",
       "      <td>14026</td>\n",
       "      <td>Boulanger</td>\n",
       "      <td>M</td>\n",
       "      <td>NaN</td>\n",
       "      <td>175.33897</td>\n",
       "      <td>NaN</td>\n",
       "      <td>France</td>\n",
       "      <td>FRA</td>\n",
       "      <td>1900 Summer</td>\n",
       "      <td>1900</td>\n",
       "      <td>Summer</td>\n",
       "      <td>Paris</td>\n",
       "      <td>Gymnastics</td>\n",
       "      <td>Gymnastics Men's Individual All-Around</td>\n",
       "      <td>NaN</td>\n",
       "    </tr>\n",
       "  </tbody>\n",
       "</table>\n",
       "</div>"
      ],
      "text/plain": [
       "                 ID                              Name Sex   Age     Height  \\\n",
       "Year                                                                         \n",
       "1896 97184    49185                     Fritz Hofmann   M  24.0  167.00000   \n",
       "     188549   94715  Periklis Pierrakos-Mavromikhalis   M   NaN  175.33897   \n",
       "     258382  129377    Hermann Otto Ludwig Weingrtner   M  31.0  175.33897   \n",
       "     117038   59266     Spyridon P. \"Spyros\" Khazapis   M   NaN  175.33897   \n",
       "1900 26977    14026                         Boulanger   M   NaN  175.33897   \n",
       "\n",
       "             Weight     Team  NOC        Games  Year  Season    City  \\\n",
       "Year                                                                   \n",
       "1896 97184     56.0  Germany  GER  1896 Summer  1896  Summer  Athina   \n",
       "     188549     NaN   Greece  GRE  1896 Summer  1896  Summer  Athina   \n",
       "     258382     NaN  Germany  GER  1896 Summer  1896  Summer  Athina   \n",
       "     117038     NaN   Greece  GRE  1896 Summer  1896  Summer  Athina   \n",
       "1900 26977      NaN   France  FRA  1900 Summer  1900  Summer   Paris   \n",
       "\n",
       "                  Sport                                            Event  \\\n",
       "Year                                                                       \n",
       "1896 97184    Athletics                      Athletics Men's Triple Jump   \n",
       "     188549     Fencing                   Fencing Men's Foil, Individual   \n",
       "     258382  Gymnastics                     Gymnastics Men's Horse Vault   \n",
       "     117038    Swimming  Swimming Men's 100 metres Freestyle For Sailors   \n",
       "1900 26977   Gymnastics           Gymnastics Men's Individual All-Around   \n",
       "\n",
       "              Medal  \n",
       "Year                 \n",
       "1896 97184      NaN  \n",
       "     188549  Bronze  \n",
       "     258382  Bronze  \n",
       "     117038  Silver  \n",
       "1900 26977      NaN  "
      ]
     },
     "execution_count": 103,
     "metadata": {},
     "output_type": "execute_result"
    }
   ],
   "source": [
    "fileStratified = file.groupby('Year', group_keys = True).apply(pd.DataFrame.sample, frac=0.011)\n",
    "fileStratified.head()"
   ]
  },
  {
   "cell_type": "code",
   "execution_count": 104,
   "metadata": {},
   "outputs": [
    {
     "data": {
      "text/plain": [
       "pandas.core.frame.DataFrame"
      ]
     },
     "execution_count": 104,
     "metadata": {},
     "output_type": "execute_result"
    }
   ],
   "source": [
    "type(fileStratified)"
   ]
  },
  {
   "cell_type": "code",
   "execution_count": 105,
   "metadata": {},
   "outputs": [
    {
     "data": {
      "text/html": [
       "<div>\n",
       "<style scoped>\n",
       "    .dataframe tbody tr th:only-of-type {\n",
       "        vertical-align: middle;\n",
       "    }\n",
       "\n",
       "    .dataframe tbody tr th {\n",
       "        vertical-align: top;\n",
       "    }\n",
       "\n",
       "    .dataframe thead th {\n",
       "        text-align: right;\n",
       "    }\n",
       "</style>\n",
       "<table border=\"1\" class=\"dataframe\">\n",
       "  <thead>\n",
       "    <tr style=\"text-align: right;\">\n",
       "      <th></th>\n",
       "      <th>ID</th>\n",
       "      <th>Age</th>\n",
       "      <th>Height</th>\n",
       "      <th>Weight</th>\n",
       "      <th>Year</th>\n",
       "    </tr>\n",
       "  </thead>\n",
       "  <tbody>\n",
       "    <tr>\n",
       "      <th>count</th>\n",
       "      <td>2982.0</td>\n",
       "      <td>2891.0</td>\n",
       "      <td>2982.0</td>\n",
       "      <td>2284.0</td>\n",
       "      <td>2982.0</td>\n",
       "    </tr>\n",
       "    <tr>\n",
       "      <th>mean</th>\n",
       "      <td>68401.0</td>\n",
       "      <td>26.0</td>\n",
       "      <td>176.0</td>\n",
       "      <td>71.0</td>\n",
       "      <td>1978.0</td>\n",
       "    </tr>\n",
       "    <tr>\n",
       "      <th>std</th>\n",
       "      <td>38925.0</td>\n",
       "      <td>7.0</td>\n",
       "      <td>9.0</td>\n",
       "      <td>14.0</td>\n",
       "      <td>30.0</td>\n",
       "    </tr>\n",
       "    <tr>\n",
       "      <th>min</th>\n",
       "      <td>22.0</td>\n",
       "      <td>13.0</td>\n",
       "      <td>127.0</td>\n",
       "      <td>33.0</td>\n",
       "      <td>1896.0</td>\n",
       "    </tr>\n",
       "    <tr>\n",
       "      <th>25%</th>\n",
       "      <td>34731.0</td>\n",
       "      <td>21.0</td>\n",
       "      <td>171.0</td>\n",
       "      <td>61.0</td>\n",
       "      <td>1960.0</td>\n",
       "    </tr>\n",
       "    <tr>\n",
       "      <th>50%</th>\n",
       "      <td>68246.0</td>\n",
       "      <td>25.0</td>\n",
       "      <td>175.0</td>\n",
       "      <td>70.0</td>\n",
       "      <td>1988.0</td>\n",
       "    </tr>\n",
       "    <tr>\n",
       "      <th>75%</th>\n",
       "      <td>101422.0</td>\n",
       "      <td>28.0</td>\n",
       "      <td>180.0</td>\n",
       "      <td>80.0</td>\n",
       "      <td>2002.0</td>\n",
       "    </tr>\n",
       "    <tr>\n",
       "      <th>max</th>\n",
       "      <td>135557.0</td>\n",
       "      <td>72.0</td>\n",
       "      <td>215.0</td>\n",
       "      <td>175.0</td>\n",
       "      <td>2016.0</td>\n",
       "    </tr>\n",
       "  </tbody>\n",
       "</table>\n",
       "</div>"
      ],
      "text/plain": [
       "             ID     Age  Height  Weight    Year\n",
       "count    2982.0  2891.0  2982.0  2284.0  2982.0\n",
       "mean    68401.0    26.0   176.0    71.0  1978.0\n",
       "std     38925.0     7.0     9.0    14.0    30.0\n",
       "min        22.0    13.0   127.0    33.0  1896.0\n",
       "25%     34731.0    21.0   171.0    61.0  1960.0\n",
       "50%     68246.0    25.0   175.0    70.0  1988.0\n",
       "75%    101422.0    28.0   180.0    80.0  2002.0\n",
       "max    135557.0    72.0   215.0   175.0  2016.0"
      ]
     },
     "execution_count": 105,
     "metadata": {},
     "output_type": "execute_result"
    }
   ],
   "source": [
    "fileStratified.describe().round()"
   ]
  },
  {
   "cell_type": "code",
   "execution_count": 107,
   "metadata": {},
   "outputs": [
    {
     "data": {
      "text/plain": [
       "array([1896, 1900, 1904, 1906, 1908, 1912, 1920, 1924, 1928, 1932, 1936,\n",
       "       1948, 1952, 1956, 1960, 1964, 1968, 1972, 1976, 1980, 1984, 1988,\n",
       "       1992, 1994, 1996, 1998, 2000, 2002, 2004, 2006, 2008, 2010, 2012,\n",
       "       2014, 2016], dtype=int64)"
      ]
     },
     "execution_count": 107,
     "metadata": {},
     "output_type": "execute_result"
    }
   ],
   "source": [
    "fileStratified.Year.unique()"
   ]
  },
  {
   "cell_type": "code",
   "execution_count": 108,
   "metadata": {},
   "outputs": [
    {
     "data": {
      "text/plain": [
       "(2982, 15)"
      ]
     },
     "execution_count": 108,
     "metadata": {},
     "output_type": "execute_result"
    }
   ],
   "source": [
    "fileStratified.shape"
   ]
  },
  {
   "cell_type": "code",
   "execution_count": 109,
   "metadata": {},
   "outputs": [
    {
     "data": {
      "text/plain": [
       "175.67"
      ]
     },
     "execution_count": 109,
     "metadata": {},
     "output_type": "execute_result"
    }
   ],
   "source": [
    "fileStratified.Height.mean().round(2) #La media de altura estratificada por países se asemeja mucho a las medias \n",
    "                                        #obtenidas con los metodos de muestreo anteriores"
   ]
  },
  {
   "cell_type": "code",
   "execution_count": 112,
   "metadata": {},
   "outputs": [
    {
     "data": {
      "text/html": [
       "<div>\n",
       "<style scoped>\n",
       "    .dataframe tbody tr th:only-of-type {\n",
       "        vertical-align: middle;\n",
       "    }\n",
       "\n",
       "    .dataframe tbody tr th {\n",
       "        vertical-align: top;\n",
       "    }\n",
       "\n",
       "    .dataframe thead th {\n",
       "        text-align: right;\n",
       "    }\n",
       "</style>\n",
       "<table border=\"1\" class=\"dataframe\">\n",
       "  <thead>\n",
       "    <tr style=\"text-align: right;\">\n",
       "      <th></th>\n",
       "      <th></th>\n",
       "      <th>ID</th>\n",
       "      <th>Name</th>\n",
       "      <th>Sex</th>\n",
       "      <th>Age</th>\n",
       "      <th>Height</th>\n",
       "      <th>Weight</th>\n",
       "      <th>Team</th>\n",
       "      <th>NOC</th>\n",
       "      <th>Games</th>\n",
       "      <th>Year</th>\n",
       "      <th>Season</th>\n",
       "      <th>City</th>\n",
       "      <th>Sport</th>\n",
       "      <th>Event</th>\n",
       "      <th>Medal</th>\n",
       "    </tr>\n",
       "    <tr>\n",
       "      <th>Year</th>\n",
       "      <th></th>\n",
       "      <th></th>\n",
       "      <th></th>\n",
       "      <th></th>\n",
       "      <th></th>\n",
       "      <th></th>\n",
       "      <th></th>\n",
       "      <th></th>\n",
       "      <th></th>\n",
       "      <th></th>\n",
       "      <th></th>\n",
       "      <th></th>\n",
       "      <th></th>\n",
       "      <th></th>\n",
       "      <th></th>\n",
       "      <th></th>\n",
       "    </tr>\n",
       "  </thead>\n",
       "  <tbody>\n",
       "    <tr>\n",
       "      <th rowspan=\"11\" valign=\"top\">1992</th>\n",
       "      <th>165780</th>\n",
       "      <td>83269</td>\n",
       "      <td>Lothar Christian Munder</td>\n",
       "      <td>M</td>\n",
       "      <td>29.0</td>\n",
       "      <td>188.00000</td>\n",
       "      <td>88.0</td>\n",
       "      <td>Brazil</td>\n",
       "      <td>BRA</td>\n",
       "      <td>1992 Winter</td>\n",
       "      <td>1992</td>\n",
       "      <td>Winter</td>\n",
       "      <td>Albertville</td>\n",
       "      <td>Alpine Skiing</td>\n",
       "      <td>Alpine Skiing Men's Combined</td>\n",
       "      <td>NaN</td>\n",
       "    </tr>\n",
       "    <tr>\n",
       "      <th>226947</th>\n",
       "      <td>114049</td>\n",
       "      <td>Saleerat Srimek</td>\n",
       "      <td>F</td>\n",
       "      <td>19.0</td>\n",
       "      <td>163.00000</td>\n",
       "      <td>47.0</td>\n",
       "      <td>Thailand</td>\n",
       "      <td>THA</td>\n",
       "      <td>1992 Summer</td>\n",
       "      <td>1992</td>\n",
       "      <td>Summer</td>\n",
       "      <td>Barcelona</td>\n",
       "      <td>Athletics</td>\n",
       "      <td>Athletics Women's 4 x 400 metres Relay</td>\n",
       "      <td>NaN</td>\n",
       "    </tr>\n",
       "    <tr>\n",
       "      <th>152636</th>\n",
       "      <td>76596</td>\n",
       "      <td>Masayuki Matsunaga</td>\n",
       "      <td>M</td>\n",
       "      <td>22.0</td>\n",
       "      <td>158.00000</td>\n",
       "      <td>53.0</td>\n",
       "      <td>Japan</td>\n",
       "      <td>JPN</td>\n",
       "      <td>1992 Summer</td>\n",
       "      <td>1992</td>\n",
       "      <td>Summer</td>\n",
       "      <td>Barcelona</td>\n",
       "      <td>Gymnastics</td>\n",
       "      <td>Gymnastics Men's Individual All-Around</td>\n",
       "      <td>NaN</td>\n",
       "    </tr>\n",
       "    <tr>\n",
       "      <th>140109</th>\n",
       "      <td>70344</td>\n",
       "      <td>Nils Linneberg</td>\n",
       "      <td>M</td>\n",
       "      <td>24.0</td>\n",
       "      <td>180.00000</td>\n",
       "      <td>87.0</td>\n",
       "      <td>Chile</td>\n",
       "      <td>CHI</td>\n",
       "      <td>1992 Winter</td>\n",
       "      <td>1992</td>\n",
       "      <td>Winter</td>\n",
       "      <td>Albertville</td>\n",
       "      <td>Alpine Skiing</td>\n",
       "      <td>Alpine Skiing Men's Downhill</td>\n",
       "      <td>NaN</td>\n",
       "    </tr>\n",
       "    <tr>\n",
       "      <th>265516</th>\n",
       "      <td>132856</td>\n",
       "      <td>Wi Jin \"Kenneth\" Yeo</td>\n",
       "      <td>M</td>\n",
       "      <td>18.0</td>\n",
       "      <td>175.33897</td>\n",
       "      <td>NaN</td>\n",
       "      <td>Singapore</td>\n",
       "      <td>SGP</td>\n",
       "      <td>1992 Summer</td>\n",
       "      <td>1992</td>\n",
       "      <td>Summer</td>\n",
       "      <td>Barcelona</td>\n",
       "      <td>Swimming</td>\n",
       "      <td>Swimming Men's 400 metres Freestyle</td>\n",
       "      <td>NaN</td>\n",
       "    </tr>\n",
       "    <tr>\n",
       "      <th>...</th>\n",
       "      <td>...</td>\n",
       "      <td>...</td>\n",
       "      <td>...</td>\n",
       "      <td>...</td>\n",
       "      <td>...</td>\n",
       "      <td>...</td>\n",
       "      <td>...</td>\n",
       "      <td>...</td>\n",
       "      <td>...</td>\n",
       "      <td>...</td>\n",
       "      <td>...</td>\n",
       "      <td>...</td>\n",
       "      <td>...</td>\n",
       "      <td>...</td>\n",
       "      <td>...</td>\n",
       "    </tr>\n",
       "    <tr>\n",
       "      <th>67943</th>\n",
       "      <td>34713</td>\n",
       "      <td>Attila Feri</td>\n",
       "      <td>M</td>\n",
       "      <td>23.0</td>\n",
       "      <td>175.00000</td>\n",
       "      <td>71.5</td>\n",
       "      <td>Romania</td>\n",
       "      <td>ROU</td>\n",
       "      <td>1992 Summer</td>\n",
       "      <td>1992</td>\n",
       "      <td>Summer</td>\n",
       "      <td>Barcelona</td>\n",
       "      <td>Weightlifting</td>\n",
       "      <td>Weightlifting Men's Lightweight</td>\n",
       "      <td>NaN</td>\n",
       "    </tr>\n",
       "    <tr>\n",
       "      <th>241784</th>\n",
       "      <td>121102</td>\n",
       "      <td>Liliana Topea</td>\n",
       "      <td>F</td>\n",
       "      <td>25.0</td>\n",
       "      <td>175.33897</td>\n",
       "      <td>NaN</td>\n",
       "      <td>Austria</td>\n",
       "      <td>AUT</td>\n",
       "      <td>1992 Summer</td>\n",
       "      <td>1992</td>\n",
       "      <td>Summer</td>\n",
       "      <td>Barcelona</td>\n",
       "      <td>Handball</td>\n",
       "      <td>Handball Women's Handball</td>\n",
       "      <td>NaN</td>\n",
       "    </tr>\n",
       "    <tr>\n",
       "      <th>8660</th>\n",
       "      <td>4756</td>\n",
       "      <td>Fabio Aquino</td>\n",
       "      <td>M</td>\n",
       "      <td>24.0</td>\n",
       "      <td>175.33897</td>\n",
       "      <td>NaN</td>\n",
       "      <td>Dominican Republic</td>\n",
       "      <td>DOM</td>\n",
       "      <td>1992 Summer</td>\n",
       "      <td>1992</td>\n",
       "      <td>Summer</td>\n",
       "      <td>Barcelona</td>\n",
       "      <td>Baseball</td>\n",
       "      <td>Baseball Men's Baseball</td>\n",
       "      <td>NaN</td>\n",
       "    </tr>\n",
       "    <tr>\n",
       "      <th>155805</th>\n",
       "      <td>78219</td>\n",
       "      <td>Armin Meier</td>\n",
       "      <td>M</td>\n",
       "      <td>22.0</td>\n",
       "      <td>178.00000</td>\n",
       "      <td>69.0</td>\n",
       "      <td>Switzerland</td>\n",
       "      <td>SUI</td>\n",
       "      <td>1992 Summer</td>\n",
       "      <td>1992</td>\n",
       "      <td>Summer</td>\n",
       "      <td>Barcelona</td>\n",
       "      <td>Cycling</td>\n",
       "      <td>Cycling Men's Road Race, Individual</td>\n",
       "      <td>NaN</td>\n",
       "    </tr>\n",
       "    <tr>\n",
       "      <th>38881</th>\n",
       "      <td>20007</td>\n",
       "      <td>Annabel Chaulvin</td>\n",
       "      <td>F</td>\n",
       "      <td>27.0</td>\n",
       "      <td>173.00000</td>\n",
       "      <td>62.0</td>\n",
       "      <td>France</td>\n",
       "      <td>FRA</td>\n",
       "      <td>1992 Summer</td>\n",
       "      <td>1992</td>\n",
       "      <td>Summer</td>\n",
       "      <td>Barcelona</td>\n",
       "      <td>Sailing</td>\n",
       "      <td>Sailing Women's One Person Dinghy</td>\n",
       "      <td>NaN</td>\n",
       "    </tr>\n",
       "  </tbody>\n",
       "</table>\n",
       "<p>181 rows × 15 columns</p>\n",
       "</div>"
      ],
      "text/plain": [
       "                 ID                     Name Sex   Age     Height  Weight  \\\n",
       "Year                                                                        \n",
       "1992 165780   83269  Lothar Christian Munder   M  29.0  188.00000    88.0   \n",
       "     226947  114049          Saleerat Srimek   F  19.0  163.00000    47.0   \n",
       "     152636   76596       Masayuki Matsunaga   M  22.0  158.00000    53.0   \n",
       "     140109   70344           Nils Linneberg   M  24.0  180.00000    87.0   \n",
       "     265516  132856     Wi Jin \"Kenneth\" Yeo   M  18.0  175.33897     NaN   \n",
       "...             ...                      ...  ..   ...        ...     ...   \n",
       "     67943    34713              Attila Feri   M  23.0  175.00000    71.5   \n",
       "     241784  121102            Liliana Topea   F  25.0  175.33897     NaN   \n",
       "     8660      4756             Fabio Aquino   M  24.0  175.33897     NaN   \n",
       "     155805   78219              Armin Meier   M  22.0  178.00000    69.0   \n",
       "     38881    20007         Annabel Chaulvin   F  27.0  173.00000    62.0   \n",
       "\n",
       "                           Team  NOC        Games  Year  Season         City  \\\n",
       "Year                                                                           \n",
       "1992 165780              Brazil  BRA  1992 Winter  1992  Winter  Albertville   \n",
       "     226947            Thailand  THA  1992 Summer  1992  Summer    Barcelona   \n",
       "     152636               Japan  JPN  1992 Summer  1992  Summer    Barcelona   \n",
       "     140109               Chile  CHI  1992 Winter  1992  Winter  Albertville   \n",
       "     265516           Singapore  SGP  1992 Summer  1992  Summer    Barcelona   \n",
       "...                         ...  ...          ...   ...     ...          ...   \n",
       "     67943              Romania  ROU  1992 Summer  1992  Summer    Barcelona   \n",
       "     241784             Austria  AUT  1992 Summer  1992  Summer    Barcelona   \n",
       "     8660    Dominican Republic  DOM  1992 Summer  1992  Summer    Barcelona   \n",
       "     155805         Switzerland  SUI  1992 Summer  1992  Summer    Barcelona   \n",
       "     38881               France  FRA  1992 Summer  1992  Summer    Barcelona   \n",
       "\n",
       "                     Sport                                   Event Medal  \n",
       "Year                                                                      \n",
       "1992 165780  Alpine Skiing            Alpine Skiing Men's Combined   NaN  \n",
       "     226947      Athletics  Athletics Women's 4 x 400 metres Relay   NaN  \n",
       "     152636     Gymnastics  Gymnastics Men's Individual All-Around   NaN  \n",
       "     140109  Alpine Skiing            Alpine Skiing Men's Downhill   NaN  \n",
       "     265516       Swimming     Swimming Men's 400 metres Freestyle   NaN  \n",
       "...                    ...                                     ...   ...  \n",
       "     67943   Weightlifting         Weightlifting Men's Lightweight   NaN  \n",
       "     241784       Handball               Handball Women's Handball   NaN  \n",
       "     8660         Baseball                 Baseball Men's Baseball   NaN  \n",
       "     155805        Cycling     Cycling Men's Road Race, Individual   NaN  \n",
       "     38881         Sailing       Sailing Women's One Person Dinghy   NaN  \n",
       "\n",
       "[181 rows x 15 columns]"
      ]
     },
     "execution_count": 112,
     "metadata": {},
     "output_type": "execute_result"
    }
   ],
   "source": [
    "file1992 = fileStratified[fileStratified['Year'] == 1992]\n",
    "file1992"
   ]
  },
  {
   "cell_type": "code",
   "execution_count": 113,
   "metadata": {},
   "outputs": [
    {
     "data": {
      "text/plain": [
       "(177.04, 10.06)"
      ]
     },
     "execution_count": 113,
     "metadata": {},
     "output_type": "execute_result"
    }
   ],
   "source": [
    "file1992.Height.mean().round(2), file1992.Height.std().round(2)"
   ]
  },
  {
   "cell_type": "code",
   "execution_count": 114,
   "metadata": {},
   "outputs": [
    {
     "name": "stdout",
     "output_type": "stream",
     "text": [
      "<class 'pandas.core.frame.DataFrame'>\n",
      "MultiIndex: 181 entries, (1992, 165780) to (1992, 38881)\n",
      "Data columns (total 15 columns):\n",
      " #   Column  Non-Null Count  Dtype  \n",
      "---  ------  --------------  -----  \n",
      " 0   ID      181 non-null    int64  \n",
      " 1   Name    181 non-null    object \n",
      " 2   Sex     181 non-null    object \n",
      " 3   Age     181 non-null    float64\n",
      " 4   Height  181 non-null    float64\n",
      " 5   Weight  140 non-null    float64\n",
      " 6   Team    181 non-null    object \n",
      " 7   NOC     181 non-null    object \n",
      " 8   Games   181 non-null    object \n",
      " 9   Year    181 non-null    int64  \n",
      " 10  Season  181 non-null    object \n",
      " 11  City    181 non-null    object \n",
      " 12  Sport   181 non-null    object \n",
      " 13  Event   181 non-null    object \n",
      " 14  Medal   14 non-null     object \n",
      "dtypes: float64(3), int64(2), object(10)\n",
      "memory usage: 109.9+ KB\n"
     ]
    }
   ],
   "source": [
    "file1992.info()"
   ]
  },
  {
   "cell_type": "code",
   "execution_count": 115,
   "metadata": {},
   "outputs": [],
   "source": [
    "file_train, file_test = train_test_split(file, test_size=2800, stratify = file['Year'])"
   ]
  },
  {
   "cell_type": "code",
   "execution_count": 116,
   "metadata": {},
   "outputs": [
    {
     "data": {
      "text/plain": [
       "((2800, 15), (268316, 15))"
      ]
     },
     "execution_count": 116,
     "metadata": {},
     "output_type": "execute_result"
    }
   ],
   "source": [
    "file_test.shape, file_train.shape"
   ]
  },
  {
   "cell_type": "code",
   "execution_count": 117,
   "metadata": {},
   "outputs": [
    {
     "data": {
      "text/html": [
       "<div>\n",
       "<style scoped>\n",
       "    .dataframe tbody tr th:only-of-type {\n",
       "        vertical-align: middle;\n",
       "    }\n",
       "\n",
       "    .dataframe tbody tr th {\n",
       "        vertical-align: top;\n",
       "    }\n",
       "\n",
       "    .dataframe thead th {\n",
       "        text-align: right;\n",
       "    }\n",
       "</style>\n",
       "<table border=\"1\" class=\"dataframe\">\n",
       "  <thead>\n",
       "    <tr style=\"text-align: right;\">\n",
       "      <th></th>\n",
       "      <th>ID</th>\n",
       "      <th>Name</th>\n",
       "      <th>Sex</th>\n",
       "      <th>Age</th>\n",
       "      <th>Height</th>\n",
       "      <th>Weight</th>\n",
       "      <th>Team</th>\n",
       "      <th>NOC</th>\n",
       "      <th>Games</th>\n",
       "      <th>Year</th>\n",
       "      <th>Season</th>\n",
       "      <th>City</th>\n",
       "      <th>Sport</th>\n",
       "      <th>Event</th>\n",
       "      <th>Medal</th>\n",
       "    </tr>\n",
       "  </thead>\n",
       "  <tbody>\n",
       "    <tr>\n",
       "      <th>245218</th>\n",
       "      <td>122790</td>\n",
       "      <td>Mario Stanlej Turner</td>\n",
       "      <td>M</td>\n",
       "      <td>25.0</td>\n",
       "      <td>168.00000</td>\n",
       "      <td>63.0</td>\n",
       "      <td>Italy</td>\n",
       "      <td>ITA</td>\n",
       "      <td>1976 Summer</td>\n",
       "      <td>1976</td>\n",
       "      <td>Summer</td>\n",
       "      <td>Montreal</td>\n",
       "      <td>Equestrianism</td>\n",
       "      <td>Equestrianism Mixed Three-Day Event, Individual</td>\n",
       "      <td>NaN</td>\n",
       "    </tr>\n",
       "    <tr>\n",
       "      <th>122570</th>\n",
       "      <td>61957</td>\n",
       "      <td>Doris Kohardt</td>\n",
       "      <td>F</td>\n",
       "      <td>17.0</td>\n",
       "      <td>168.00000</td>\n",
       "      <td>57.0</td>\n",
       "      <td>East Germany</td>\n",
       "      <td>GDR</td>\n",
       "      <td>1968 Summer</td>\n",
       "      <td>1968</td>\n",
       "      <td>Summer</td>\n",
       "      <td>Mexico City</td>\n",
       "      <td>Swimming</td>\n",
       "      <td>Swimming Women's 200 metres Backstroke</td>\n",
       "      <td>NaN</td>\n",
       "    </tr>\n",
       "    <tr>\n",
       "      <th>268192</th>\n",
       "      <td>134173</td>\n",
       "      <td>Arthur Zborzil</td>\n",
       "      <td>M</td>\n",
       "      <td>22.0</td>\n",
       "      <td>175.33897</td>\n",
       "      <td>NaN</td>\n",
       "      <td>Austria</td>\n",
       "      <td>AUT</td>\n",
       "      <td>1908 Summer</td>\n",
       "      <td>1908</td>\n",
       "      <td>Summer</td>\n",
       "      <td>London</td>\n",
       "      <td>Tennis</td>\n",
       "      <td>Tennis Men's Doubles</td>\n",
       "      <td>NaN</td>\n",
       "    </tr>\n",
       "    <tr>\n",
       "      <th>90850</th>\n",
       "      <td>46030</td>\n",
       "      <td>Derradji Harek</td>\n",
       "      <td>M</td>\n",
       "      <td>20.0</td>\n",
       "      <td>175.00000</td>\n",
       "      <td>63.0</td>\n",
       "      <td>Algeria</td>\n",
       "      <td>ALG</td>\n",
       "      <td>1980 Summer</td>\n",
       "      <td>1980</td>\n",
       "      <td>Summer</td>\n",
       "      <td>Moskva</td>\n",
       "      <td>Athletics</td>\n",
       "      <td>Athletics Men's 1,500 metres</td>\n",
       "      <td>NaN</td>\n",
       "    </tr>\n",
       "    <tr>\n",
       "      <th>246000</th>\n",
       "      <td>123185</td>\n",
       "      <td>Jen Uhlyrik</td>\n",
       "      <td>M</td>\n",
       "      <td>30.0</td>\n",
       "      <td>175.33897</td>\n",
       "      <td>NaN</td>\n",
       "      <td>Hungary</td>\n",
       "      <td>HUN</td>\n",
       "      <td>1924 Summer</td>\n",
       "      <td>1924</td>\n",
       "      <td>Summer</td>\n",
       "      <td>Paris</td>\n",
       "      <td>Fencing</td>\n",
       "      <td>Fencing Men's Sabre, Team</td>\n",
       "      <td>Silver</td>\n",
       "    </tr>\n",
       "  </tbody>\n",
       "</table>\n",
       "</div>"
      ],
      "text/plain": [
       "            ID                  Name Sex   Age     Height  Weight  \\\n",
       "245218  122790  Mario Stanlej Turner   M  25.0  168.00000    63.0   \n",
       "122570   61957         Doris Kohardt   F  17.0  168.00000    57.0   \n",
       "268192  134173        Arthur Zborzil   M  22.0  175.33897     NaN   \n",
       "90850    46030        Derradji Harek   M  20.0  175.00000    63.0   \n",
       "246000  123185           Jen Uhlyrik   M  30.0  175.33897     NaN   \n",
       "\n",
       "                Team  NOC        Games  Year  Season         City  \\\n",
       "245218         Italy  ITA  1976 Summer  1976  Summer     Montreal   \n",
       "122570  East Germany  GDR  1968 Summer  1968  Summer  Mexico City   \n",
       "268192       Austria  AUT  1908 Summer  1908  Summer       London   \n",
       "90850        Algeria  ALG  1980 Summer  1980  Summer       Moskva   \n",
       "246000       Hungary  HUN  1924 Summer  1924  Summer        Paris   \n",
       "\n",
       "                Sport                                            Event   Medal  \n",
       "245218  Equestrianism  Equestrianism Mixed Three-Day Event, Individual     NaN  \n",
       "122570       Swimming           Swimming Women's 200 metres Backstroke     NaN  \n",
       "268192         Tennis                             Tennis Men's Doubles     NaN  \n",
       "90850       Athletics                     Athletics Men's 1,500 metres     NaN  \n",
       "246000        Fencing                        Fencing Men's Sabre, Team  Silver  "
      ]
     },
     "execution_count": 117,
     "metadata": {},
     "output_type": "execute_result"
    }
   ],
   "source": [
    "file_test.head()"
   ]
  },
  {
   "cell_type": "code",
   "execution_count": 122,
   "metadata": {},
   "outputs": [
    {
     "data": {
      "text/plain": [
       "175.47"
      ]
     },
     "execution_count": 122,
     "metadata": {},
     "output_type": "execute_result"
    }
   ],
   "source": [
    "file_test.Height.mean().round(2) # la media de altura con una muestra estratificada es de 175,47cm"
   ]
  },
  {
   "cell_type": "code",
   "execution_count": null,
   "metadata": {},
   "outputs": [],
   "source": [
    "# GENERANDO UNA MOSTRA SMOTE #"
   ]
  },
  {
   "cell_type": "code",
   "execution_count": null,
   "metadata": {},
   "outputs": [],
   "source": [
    "# Vamos a realizar un oversampling por Edad de nuestro Dataset. Para ello, y para que el ejemplo sea más claro, vamor a unificar\n",
    "# los rangos de edad de 10-35 años y de 36-100 años. "
   ]
  },
  {
   "cell_type": "code",
   "execution_count": 81,
   "metadata": {},
   "outputs": [],
   "source": [
    "import imblearn\n",
    "from imblearn.pipeline import Pipeline\n",
    "from imblearn.over_sampling import SMOTE\n",
    "from imblearn.under_sampling import RandomUnderSampler\n",
    "from numpy import mean\n",
    "from sklearn.datasets import make_classification\n",
    "from sklearn.model_selection import cross_val_score\n",
    "from sklearn.model_selection import RepeatedStratifiedKFold\n",
    "from sklearn.tree import DecisionTreeClassifier"
   ]
  },
  {
   "cell_type": "code",
   "execution_count": 197,
   "metadata": {},
   "outputs": [],
   "source": [
    "# Cargamos de nuevo el dataset\n",
    "\n",
    "file = pd.read_csv('athlete_events.csv')"
   ]
  },
  {
   "cell_type": "code",
   "execution_count": 198,
   "metadata": {},
   "outputs": [
    {
     "name": "stdout",
     "output_type": "stream",
     "text": [
      "Total Number of NaN values: \n",
      "ID             0\n",
      "Name           0\n",
      "Sex            0\n",
      "Age         9474\n",
      "Height     60171\n",
      "Weight     62875\n",
      "Team           0\n",
      "NOC            0\n",
      "Games          0\n",
      "Year           0\n",
      "Season         0\n",
      "City           0\n",
      "Sport          0\n",
      "Event          0\n",
      "Medal     231333\n",
      "dtype: int64\n"
     ]
    }
   ],
   "source": [
    "# Primero comprovamos los valores NaN\n",
    "\n",
    "total_nan_values = file.isna().sum()\n",
    "print (\"Total Number of NaN values: \"+'\\n'+str(total_nan_values))"
   ]
  },
  {
   "cell_type": "code",
   "execution_count": 199,
   "metadata": {},
   "outputs": [
    {
     "data": {
      "text/plain": [
       "(70.70239290053351, 25.556898357297374)"
      ]
     },
     "execution_count": 199,
     "metadata": {},
     "output_type": "execute_result"
    }
   ],
   "source": [
    "# Vamos a sustituir los NaN  de 'Weight' (que será nuestro valor x cuando apliquemos SMOUT) y 'Age' (que será nuestro valor y\n",
    "# cuando apliquemos SMOUT) por sus respectivos valores medios\n",
    "\n",
    "file['Weight'].mean(), file['Age'].mean()"
   ]
  },
  {
   "cell_type": "code",
   "execution_count": 200,
   "metadata": {},
   "outputs": [],
   "source": [
    "mean = 71\n",
    "file['Weight']=file['Weight'].replace(np.nan, mean)"
   ]
  },
  {
   "cell_type": "code",
   "execution_count": 201,
   "metadata": {},
   "outputs": [],
   "source": [
    "promedio=26\n",
    "file['Age']=file['Age'].replace(np.nan, promedio)"
   ]
  },
  {
   "cell_type": "code",
   "execution_count": 202,
   "metadata": {},
   "outputs": [
    {
     "name": "stdout",
     "output_type": "stream",
     "text": [
      "Total Number of NaN values: \n",
      "ID             0\n",
      "Name           0\n",
      "Sex            0\n",
      "Age            0\n",
      "Height     60171\n",
      "Weight         0\n",
      "Team           0\n",
      "NOC            0\n",
      "Games          0\n",
      "Year           0\n",
      "Season         0\n",
      "City           0\n",
      "Sport          0\n",
      "Event          0\n",
      "Medal     231333\n",
      "dtype: int64\n"
     ]
    }
   ],
   "source": [
    "# Comprobamos que ya no hay NaN en ambas columnas\n",
    "\n",
    "total_nan_values = file.isna().sum()\n",
    "print (\"Total Number of NaN values: \"+'\\n'+str(total_nan_values))"
   ]
  },
  {
   "cell_type": "code",
   "execution_count": 203,
   "metadata": {},
   "outputs": [],
   "source": [
    "bins = [10, 35, 97] # Definimos los grupos de edad comentados anteriormente para crear datos imbalanced por Edad"
   ]
  },
  {
   "cell_type": "code",
   "execution_count": 204,
   "metadata": {},
   "outputs": [],
   "source": [
    "names = ['0', '1'] # 0: menor de 35 años; 1: mayor de 35 años"
   ]
  },
  {
   "cell_type": "code",
   "execution_count": 205,
   "metadata": {},
   "outputs": [],
   "source": [
    "file['Age'] = pd.cut(file['Age'], bins, labels = names)"
   ]
  },
  {
   "cell_type": "code",
   "execution_count": 206,
   "metadata": {},
   "outputs": [
    {
     "data": {
      "text/html": [
       "<div>\n",
       "<style scoped>\n",
       "    .dataframe tbody tr th:only-of-type {\n",
       "        vertical-align: middle;\n",
       "    }\n",
       "\n",
       "    .dataframe tbody tr th {\n",
       "        vertical-align: top;\n",
       "    }\n",
       "\n",
       "    .dataframe thead th {\n",
       "        text-align: right;\n",
       "    }\n",
       "</style>\n",
       "<table border=\"1\" class=\"dataframe\">\n",
       "  <thead>\n",
       "    <tr style=\"text-align: right;\">\n",
       "      <th></th>\n",
       "      <th>ID</th>\n",
       "      <th>Name</th>\n",
       "      <th>Sex</th>\n",
       "      <th>Age</th>\n",
       "      <th>Height</th>\n",
       "      <th>Weight</th>\n",
       "      <th>Team</th>\n",
       "      <th>NOC</th>\n",
       "      <th>Games</th>\n",
       "      <th>Year</th>\n",
       "      <th>Season</th>\n",
       "      <th>City</th>\n",
       "      <th>Sport</th>\n",
       "      <th>Event</th>\n",
       "      <th>Medal</th>\n",
       "    </tr>\n",
       "  </thead>\n",
       "  <tbody>\n",
       "    <tr>\n",
       "      <th>0</th>\n",
       "      <td>1</td>\n",
       "      <td>A Dijiang</td>\n",
       "      <td>M</td>\n",
       "      <td>0</td>\n",
       "      <td>180.0</td>\n",
       "      <td>80.0</td>\n",
       "      <td>China</td>\n",
       "      <td>CHN</td>\n",
       "      <td>1992 Summer</td>\n",
       "      <td>1992</td>\n",
       "      <td>Summer</td>\n",
       "      <td>Barcelona</td>\n",
       "      <td>Basketball</td>\n",
       "      <td>Basketball Men's Basketball</td>\n",
       "      <td>NaN</td>\n",
       "    </tr>\n",
       "    <tr>\n",
       "      <th>1</th>\n",
       "      <td>2</td>\n",
       "      <td>A Lamusi</td>\n",
       "      <td>M</td>\n",
       "      <td>0</td>\n",
       "      <td>170.0</td>\n",
       "      <td>60.0</td>\n",
       "      <td>China</td>\n",
       "      <td>CHN</td>\n",
       "      <td>2012 Summer</td>\n",
       "      <td>2012</td>\n",
       "      <td>Summer</td>\n",
       "      <td>London</td>\n",
       "      <td>Judo</td>\n",
       "      <td>Judo Men's Extra-Lightweight</td>\n",
       "      <td>NaN</td>\n",
       "    </tr>\n",
       "    <tr>\n",
       "      <th>2</th>\n",
       "      <td>3</td>\n",
       "      <td>Gunnar Nielsen Aaby</td>\n",
       "      <td>M</td>\n",
       "      <td>0</td>\n",
       "      <td>NaN</td>\n",
       "      <td>71.0</td>\n",
       "      <td>Denmark</td>\n",
       "      <td>DEN</td>\n",
       "      <td>1920 Summer</td>\n",
       "      <td>1920</td>\n",
       "      <td>Summer</td>\n",
       "      <td>Antwerpen</td>\n",
       "      <td>Football</td>\n",
       "      <td>Football Men's Football</td>\n",
       "      <td>NaN</td>\n",
       "    </tr>\n",
       "  </tbody>\n",
       "</table>\n",
       "</div>"
      ],
      "text/plain": [
       "   ID                 Name Sex Age  Height  Weight     Team  NOC        Games  \\\n",
       "0   1            A Dijiang   M   0   180.0    80.0    China  CHN  1992 Summer   \n",
       "1   2             A Lamusi   M   0   170.0    60.0    China  CHN  2012 Summer   \n",
       "2   3  Gunnar Nielsen Aaby   M   0     NaN    71.0  Denmark  DEN  1920 Summer   \n",
       "\n",
       "   Year  Season       City       Sport                         Event Medal  \n",
       "0  1992  Summer  Barcelona  Basketball   Basketball Men's Basketball   NaN  \n",
       "1  2012  Summer     London        Judo  Judo Men's Extra-Lightweight   NaN  \n",
       "2  1920  Summer  Antwerpen    Football       Football Men's Football   NaN  "
      ]
     },
     "execution_count": 206,
     "metadata": {},
     "output_type": "execute_result"
    }
   ],
   "source": [
    "file.head(3)"
   ]
  },
  {
   "cell_type": "code",
   "execution_count": 207,
   "metadata": {},
   "outputs": [
    {
     "data": {
      "text/html": [
       "<div>\n",
       "<style scoped>\n",
       "    .dataframe tbody tr th:only-of-type {\n",
       "        vertical-align: middle;\n",
       "    }\n",
       "\n",
       "    .dataframe tbody tr th {\n",
       "        vertical-align: top;\n",
       "    }\n",
       "\n",
       "    .dataframe thead th {\n",
       "        text-align: right;\n",
       "    }\n",
       "</style>\n",
       "<table border=\"1\" class=\"dataframe\">\n",
       "  <thead>\n",
       "    <tr style=\"text-align: right;\">\n",
       "      <th></th>\n",
       "      <th>ID</th>\n",
       "      <th>Name</th>\n",
       "      <th>Sex</th>\n",
       "      <th>Age</th>\n",
       "      <th>Height</th>\n",
       "      <th>Weight</th>\n",
       "      <th>Team</th>\n",
       "      <th>NOC</th>\n",
       "      <th>Games</th>\n",
       "      <th>Year</th>\n",
       "      <th>Season</th>\n",
       "      <th>City</th>\n",
       "      <th>Sport</th>\n",
       "      <th>Event</th>\n",
       "      <th>Medal</th>\n",
       "    </tr>\n",
       "  </thead>\n",
       "  <tbody>\n",
       "    <tr>\n",
       "      <th>0</th>\n",
       "      <td>1</td>\n",
       "      <td>A Dijiang</td>\n",
       "      <td>M</td>\n",
       "      <td>0</td>\n",
       "      <td>180.0</td>\n",
       "      <td>80</td>\n",
       "      <td>China</td>\n",
       "      <td>CHN</td>\n",
       "      <td>1992 Summer</td>\n",
       "      <td>1992</td>\n",
       "      <td>Summer</td>\n",
       "      <td>Barcelona</td>\n",
       "      <td>Basketball</td>\n",
       "      <td>Basketball Men's Basketball</td>\n",
       "      <td>NaN</td>\n",
       "    </tr>\n",
       "    <tr>\n",
       "      <th>1</th>\n",
       "      <td>2</td>\n",
       "      <td>A Lamusi</td>\n",
       "      <td>M</td>\n",
       "      <td>0</td>\n",
       "      <td>170.0</td>\n",
       "      <td>60</td>\n",
       "      <td>China</td>\n",
       "      <td>CHN</td>\n",
       "      <td>2012 Summer</td>\n",
       "      <td>2012</td>\n",
       "      <td>Summer</td>\n",
       "      <td>London</td>\n",
       "      <td>Judo</td>\n",
       "      <td>Judo Men's Extra-Lightweight</td>\n",
       "      <td>NaN</td>\n",
       "    </tr>\n",
       "    <tr>\n",
       "      <th>2</th>\n",
       "      <td>3</td>\n",
       "      <td>Gunnar Nielsen Aaby</td>\n",
       "      <td>M</td>\n",
       "      <td>0</td>\n",
       "      <td>NaN</td>\n",
       "      <td>71</td>\n",
       "      <td>Denmark</td>\n",
       "      <td>DEN</td>\n",
       "      <td>1920 Summer</td>\n",
       "      <td>1920</td>\n",
       "      <td>Summer</td>\n",
       "      <td>Antwerpen</td>\n",
       "      <td>Football</td>\n",
       "      <td>Football Men's Football</td>\n",
       "      <td>NaN</td>\n",
       "    </tr>\n",
       "  </tbody>\n",
       "</table>\n",
       "</div>"
      ],
      "text/plain": [
       "   ID                 Name Sex Age  Height  Weight     Team  NOC        Games  \\\n",
       "0   1            A Dijiang   M   0   180.0      80    China  CHN  1992 Summer   \n",
       "1   2             A Lamusi   M   0   170.0      60    China  CHN  2012 Summer   \n",
       "2   3  Gunnar Nielsen Aaby   M   0     NaN      71  Denmark  DEN  1920 Summer   \n",
       "\n",
       "   Year  Season       City       Sport                         Event Medal  \n",
       "0  1992  Summer  Barcelona  Basketball   Basketball Men's Basketball   NaN  \n",
       "1  2012  Summer     London        Judo  Judo Men's Extra-Lightweight   NaN  \n",
       "2  1920  Summer  Antwerpen    Football       Football Men's Football   NaN  "
      ]
     },
     "execution_count": 207,
     "metadata": {},
     "output_type": "execute_result"
    }
   ],
   "source": [
    "file['Weight']=file['Weight'].round(0).astype(int)\n",
    "file.head(3)"
   ]
  },
  {
   "cell_type": "code",
   "execution_count": 208,
   "metadata": {},
   "outputs": [
    {
     "data": {
      "text/plain": [
       "(CategoricalDtype(categories=['0', '1'], ordered=True), dtype('int32'))"
      ]
     },
     "execution_count": 208,
     "metadata": {},
     "output_type": "execute_result"
    }
   ],
   "source": [
    "file['Age'].dtypes, file['Weight'].dtypes"
   ]
  },
  {
   "cell_type": "code",
   "execution_count": 217,
   "metadata": {},
   "outputs": [
    {
     "data": {
      "text/plain": [
       "0    254731\n",
       "1     16384\n",
       "Name: Age, dtype: int64"
      ]
     },
     "execution_count": 217,
     "metadata": {},
     "output_type": "execute_result"
    }
   ],
   "source": [
    "# Ahora vemos que nuestro dataset está notablemente imbalanced por la variable 'Age'.\n",
    "\n",
    "file.Age.value_counts()"
   ]
  },
  {
   "cell_type": "code",
   "execution_count": 218,
   "metadata": {},
   "outputs": [],
   "source": [
    "# Antes de hacer el SMOUT vamos a entrenar nuestros datos. \n",
    "\n",
    "from sklearn.model_selection import train_test_split\n",
    "\n",
    "x = file.Weight.values\n",
    "y = file.Age.values\n",
    "x = x.reshape(-1,1) # Super importante hacer el reshape, sino dará error\n",
    "\n",
    "X_train, X_test, y_train, y_test = train_test_split(x, y, test_size=0.2, random_state=0)"
   ]
  },
  {
   "cell_type": "code",
   "execution_count": 219,
   "metadata": {},
   "outputs": [
    {
     "data": {
      "text/plain": [
       "0    203750\n",
       "1     13142\n",
       "dtype: int64"
      ]
     },
     "execution_count": 219,
     "metadata": {},
     "output_type": "execute_result"
    }
   ],
   "source": [
    "# Comprobamos de nuevo los valores y_train \n",
    "\n",
    "y_train.value_counts()"
   ]
  },
  {
   "cell_type": "code",
   "execution_count": 220,
   "metadata": {},
   "outputs": [],
   "source": [
    "smt = SMOTE()\n",
    "X_train, y_train = smt.fit_resample(X_train, y_train)"
   ]
  },
  {
   "cell_type": "code",
   "execution_count": 222,
   "metadata": {},
   "outputs": [
    {
     "data": {
      "text/plain": [
       "array([['0', 203750],\n",
       "       ['1', 203750]], dtype=object)"
      ]
     },
     "execution_count": 222,
     "metadata": {},
     "output_type": "execute_result"
    }
   ],
   "source": [
    "# Comprobamos que la dimensión 'Age' ha sido balanceada. \n",
    "\n",
    "np.array(np.unique(y_train, return_counts=True)).T"
   ]
  },
  {
   "cell_type": "code",
   "execution_count": null,
   "metadata": {},
   "outputs": [],
   "source": []
  },
  {
   "cell_type": "markdown",
   "metadata": {},
   "source": [
    "### <span style=\"color:black\">Exercici 3.</span>"
   ]
  },
  {
   "cell_type": "markdown",
   "metadata": {},
   "source": [
    "__Continua amb el conjunt de dades de tema esportiu i genera una mostra utilitzant el mètode Reservoir sampling:__ <span style=\"color:blue\">__[X] Fet__</span>"
   ]
  },
  {
   "cell_type": "code",
   "execution_count": null,
   "metadata": {},
   "outputs": [],
   "source": [
    "# Vamos a ver cual es la altura media de los jugadores olímpicos aplicando Reservoir sampling"
   ]
  },
  {
   "cell_type": "code",
   "execution_count": 235,
   "metadata": {},
   "outputs": [
    {
     "name": "stdout",
     "output_type": "stream",
     "text": [
      "Total Number of NaN values: \n",
      "ID             0\n",
      "Name           0\n",
      "Sex            0\n",
      "Age            1\n",
      "Height     60171\n",
      "Weight         0\n",
      "Team           0\n",
      "NOC            0\n",
      "Games          0\n",
      "Year           0\n",
      "Season         0\n",
      "City           0\n",
      "Sport          0\n",
      "Event          0\n",
      "Medal     231333\n",
      "dtype: int64\n"
     ]
    }
   ],
   "source": [
    "# Comprobamos si los datos tienen NaN, y los sustituimos por su valor medio.\n",
    "\n",
    "total_nan_values = file.isna().sum()\n",
    "print (\"Total Number of NaN values: \"+'\\n'+str(total_nan_values))"
   ]
  },
  {
   "cell_type": "code",
   "execution_count": 236,
   "metadata": {},
   "outputs": [],
   "source": [
    "file['Height'] = file['Height'].fillna(file['Height'].mean())"
   ]
  },
  {
   "cell_type": "code",
   "execution_count": 237,
   "metadata": {},
   "outputs": [],
   "source": [
    "# Definimos una función para seleccionar elementos aleatoriamente:\n",
    "\n",
    "def selectKItems(stream, n, k):\n",
    "        i=0\n",
    "        reservoir = [0]*k;\n",
    "        for i in range(k):\n",
    "            reservoir[i] = stream[i];\n",
    "        while(i < n):\n",
    "            j = random.randrange(i+1);\n",
    "            if(j < k):\n",
    "                reservoir[j] = stream[i];\n",
    "            i+=1\n",
    "        print(\"La media de altura con Reservoir Sampling (k=2800) es:\", np.mean(reservoir).round(2))\n",
    "        print(\"A continuación se muestran k (2800) elementos seleccionados al azar:\")\n",
    "        print(reservoir,k)"
   ]
  },
  {
   "cell_type": "code",
   "execution_count": 238,
   "metadata": {},
   "outputs": [
    {
     "name": "stdout",
     "output_type": "stream",
     "text": [
      "La media de altura con Reservoir Sampling (k=2800) es: 175.26\n",
      "A continuación se muestran k (2800) elementos seleccionados al azar:\n",
      "[175.0, 181.0, 175.34, 194.0, 182.0, 175.34, 175.0, 175.34, 171.0, 162.0, 175.34, 162.0, 175.34, 172.0, 168.0, 169.0, 175.0, 189.0, 155.0, 172.0, 187.0, 183.0, 190.0, 162.0, 205.0, 189.0, 177.0, 176.0, 176.0, 164.0, 173.0, 166.0, 169.0, 185.0, 179.0, 181.0, 179.0, 171.0, 170.0, 180.0, 195.0, 165.0, 175.34, 175.34, 188.0, 169.0, 165.0, 187.0, 186.0, 180.0, 176.0, 182.0, 175.34, 175.0, 175.34, 176.0, 167.0, 178.0, 193.0, 193.0, 176.0, 175.34, 177.0, 190.0, 169.0, 196.0, 175.34, 168.0, 187.0, 188.0, 180.0, 183.0, 175.34, 185.0, 176.0, 186.0, 180.0, 176.0, 188.0, 170.0, 179.0, 188.0, 170.0, 190.0, 180.0, 186.0, 170.0, 175.34, 175.34, 160.0, 157.0, 175.34, 172.0, 176.0, 167.0, 175.34, 187.0, 168.0, 163.0, 155.0, 175.34, 175.34, 175.34, 165.0, 161.0, 136.0, 178.0, 175.34, 175.34, 170.0, 180.0, 170.0, 185.0, 178.0, 173.0, 183.0, 183.0, 175.34, 168.0, 174.0, 163.0, 161.0, 188.0, 186.0, 175.34, 171.0, 164.0, 183.0, 191.0, 188.0, 175.34, 175.34, 170.0, 178.0, 182.0, 176.0, 186.0, 170.0, 173.0, 175.34, 167.0, 189.0, 183.0, 180.0, 168.0, 202.0, 169.0, 180.0, 172.0, 170.0, 177.0, 175.34, 175.34, 175.34, 166.0, 172.0, 170.0, 187.0, 186.0, 175.34, 175.34, 168.0, 176.0, 175.34, 175.34, 175.34, 159.0, 189.0, 198.0, 190.0, 175.34, 175.34, 175.34, 194.0, 181.0, 175.34, 175.34, 186.0, 185.0, 171.0, 176.0, 172.0, 168.0, 175.34, 175.34, 164.0, 175.0, 160.0, 172.0, 182.0, 175.34, 191.0, 167.0, 175.34, 175.34, 169.0, 174.0, 169.0, 175.34, 175.34, 156.0, 175.34, 167.0, 180.0, 168.0, 193.0, 186.0, 175.0, 170.0, 161.0, 175.0, 175.34, 196.0, 173.0, 176.0, 176.0, 175.34, 187.0, 182.0, 175.34, 175.34, 173.0, 170.0, 187.0, 190.0, 175.34, 175.34, 180.0, 192.0, 170.0, 163.0, 171.0, 176.0, 162.0, 175.34, 162.0, 178.0, 180.0, 168.0, 172.0, 175.0, 173.0, 171.0, 175.34, 188.0, 161.0, 184.0, 196.0, 180.0, 170.0, 175.34, 173.0, 175.0, 175.34, 175.34, 175.34, 182.0, 175.34, 166.0, 176.0, 178.0, 167.0, 162.0, 190.0, 165.0, 183.0, 175.0, 178.0, 189.0, 171.0, 175.34, 183.0, 190.0, 186.0, 154.0, 175.34, 174.0, 178.0, 177.0, 178.0, 182.0, 175.34, 165.0, 184.0, 158.0, 175.34, 178.0, 176.0, 174.0, 161.0, 163.0, 181.0, 183.0, 159.0, 174.0, 174.0, 175.34, 165.0, 175.0, 165.0, 165.0, 178.0, 177.0, 159.0, 183.0, 185.0, 175.34, 164.0, 164.0, 182.0, 192.0, 175.34, 179.0, 168.0, 175.34, 175.34, 175.34, 175.34, 203.0, 188.0, 168.0, 206.0, 157.0, 183.0, 193.0, 165.0, 160.0, 175.34, 170.0, 183.0, 180.0, 168.0, 175.34, 161.0, 177.0, 170.0, 187.0, 175.34, 175.34, 151.0, 178.0, 175.34, 173.0, 167.0, 165.0, 178.0, 175.34, 167.0, 175.0, 173.0, 166.0, 160.0, 171.0, 179.0, 175.34, 163.0, 183.0, 165.0, 170.0, 163.0, 190.0, 172.0, 183.0, 183.0, 183.0, 175.34, 184.0, 170.0, 157.0, 176.0, 187.0, 184.0, 169.0, 165.0, 185.0, 168.0, 172.0, 172.0, 183.0, 174.0, 175.0, 179.0, 204.0, 175.34, 168.0, 185.0, 176.0, 196.0, 162.0, 180.0, 176.0, 197.0, 159.0, 175.34, 163.0, 162.0, 185.0, 175.34, 184.0, 187.0, 183.0, 175.34, 175.34, 175.0, 175.34, 175.34, 175.34, 184.0, 175.34, 178.0, 172.0, 181.0, 183.0, 173.0, 164.0, 167.0, 162.0, 163.0, 188.0, 157.0, 185.0, 175.34, 173.0, 180.0, 175.34, 171.0, 158.0, 175.34, 175.34, 184.0, 186.0, 175.34, 185.0, 173.0, 165.0, 187.0, 173.0, 163.0, 193.0, 193.0, 191.0, 180.0, 167.0, 175.0, 166.0, 180.0, 192.0, 163.0, 181.0, 175.34, 176.0, 178.0, 172.0, 175.34, 190.0, 175.0, 164.0, 194.0, 192.0, 175.34, 179.0, 180.0, 175.34, 153.0, 182.0, 175.34, 175.0, 175.34, 183.0, 170.0, 183.0, 181.0, 168.0, 175.34, 162.0, 178.0, 178.0, 172.0, 188.0, 175.34, 167.0, 175.34, 178.0, 182.0, 165.0, 175.34, 183.0, 172.0, 175.34, 166.0, 188.0, 185.0, 169.0, 182.0, 175.34, 178.0, 170.0, 175.34, 175.34, 176.0, 163.0, 168.0, 172.0, 167.0, 149.0, 163.0, 172.0, 183.0, 164.0, 169.0, 192.0, 175.34, 170.0, 175.34, 185.0, 175.0, 190.0, 174.0, 167.0, 161.0, 175.34, 170.0, 188.0, 175.34, 168.0, 175.34, 165.0, 189.0, 166.0, 157.0, 175.34, 156.0, 171.0, 180.0, 168.0, 180.0, 183.0, 175.34, 178.0, 176.0, 180.0, 177.0, 175.34, 175.34, 177.0, 175.34, 164.0, 187.0, 178.0, 175.0, 175.34, 173.0, 169.0, 175.34, 190.0, 175.34, 174.0, 175.0, 185.0, 174.0, 177.0, 175.0, 169.0, 175.34, 175.0, 197.0, 199.0, 164.0, 174.0, 160.0, 182.0, 170.0, 184.0, 172.0, 175.34, 175.34, 178.0, 172.0, 167.0, 165.0, 191.0, 161.0, 175.34, 170.0, 189.0, 170.0, 194.0, 180.0, 183.0, 173.0, 180.0, 167.0, 175.34, 163.0, 170.0, 171.0, 170.0, 165.0, 175.34, 187.0, 181.0, 179.0, 172.0, 175.34, 185.0, 175.34, 169.0, 175.34, 152.0, 163.0, 162.0, 175.34, 172.0, 185.0, 175.34, 185.0, 175.34, 163.0, 170.0, 171.0, 175.34, 168.0, 181.0, 175.0, 175.34, 175.34, 163.0, 174.0, 173.0, 165.0, 165.0, 172.0, 185.0, 165.0, 169.0, 168.0, 198.0, 175.34, 176.0, 185.0, 170.0, 175.34, 197.0, 175.34, 170.0, 175.34, 152.0, 175.0, 187.0, 167.0, 175.34, 187.0, 175.34, 170.0, 165.0, 175.34, 184.0, 175.34, 175.34, 160.0, 175.34, 171.0, 175.34, 183.0, 180.0, 175.34, 186.0, 164.0, 190.0, 168.0, 182.0, 162.0, 170.0, 180.0, 171.0, 165.0, 193.0, 183.0, 154.0, 183.0, 163.0, 157.0, 185.0, 161.0, 175.0, 180.0, 188.0, 189.0, 172.0, 174.0, 171.0, 184.0, 160.0, 175.34, 169.0, 180.0, 175.34, 185.0, 175.34, 164.0, 183.0, 182.0, 175.0, 172.0, 168.0, 178.0, 158.0, 163.0, 165.0, 202.0, 183.0, 183.0, 185.0, 188.0, 188.0, 176.0, 179.0, 180.0, 199.0, 181.0, 175.34, 169.0, 165.0, 181.0, 187.0, 185.0, 185.0, 180.0, 175.34, 182.0, 175.34, 176.0, 158.0, 175.34, 178.0, 175.34, 175.34, 162.0, 160.0, 164.0, 175.34, 172.0, 182.0, 183.0, 180.0, 190.0, 196.0, 189.0, 178.0, 185.0, 160.0, 170.0, 185.0, 175.34, 175.34, 184.0, 160.0, 175.0, 175.34, 188.0, 156.0, 175.34, 175.34, 175.34, 176.0, 198.0, 180.0, 174.0, 165.0, 170.0, 175.34, 188.0, 188.0, 175.34, 175.0, 175.34, 174.0, 176.0, 190.0, 178.0, 175.34, 162.0, 165.0, 175.34, 160.0, 181.0, 175.0, 165.0, 164.0, 173.0, 168.0, 172.0, 175.34, 199.0, 170.0, 172.0, 173.0, 185.0, 175.34, 187.0, 175.34, 150.0, 172.0, 175.34, 171.0, 176.0, 175.34, 167.0, 168.0, 168.0, 175.34, 175.34, 178.0, 175.34, 171.0, 172.0, 175.34, 173.0, 167.0, 183.0, 175.34, 177.0, 167.0, 189.0, 178.0, 162.0, 155.0, 175.34, 191.0, 159.0, 171.0, 166.0, 180.0, 170.0, 187.0, 164.0, 170.0, 173.0, 178.0, 185.0, 165.0, 189.0, 165.0, 163.0, 165.0, 175.34, 175.0, 173.0, 163.0, 167.0, 178.0, 170.0, 172.0, 173.0, 175.34, 168.0, 184.0, 194.0, 175.34, 175.34, 173.0, 175.34, 190.0, 184.0, 162.0, 167.0, 160.0, 175.34, 189.0, 197.0, 174.0, 161.0, 175.34, 187.0, 178.0, 182.0, 173.0, 180.0, 175.34, 179.0, 167.0, 191.0, 175.34, 172.0, 196.0, 182.0, 179.0, 175.34, 197.0, 165.0, 175.0, 166.0, 168.0, 168.0, 186.0, 186.0, 160.0, 177.0, 176.0, 185.0, 180.0, 157.0, 170.0, 175.34, 175.34, 180.0, 170.0, 162.0, 176.0, 180.0, 173.0, 173.0, 180.0, 167.0, 187.0, 175.34, 183.0, 173.0, 175.34, 190.0, 202.0, 194.0, 160.0, 173.0, 175.34, 181.0, 175.34, 165.0, 198.0, 175.34, 153.0, 174.0, 168.0, 178.0, 175.34, 175.34, 150.0, 189.0, 193.0, 181.0, 183.0, 191.0, 175.34, 171.0, 183.0, 175.0, 163.0, 175.34, 160.0, 168.0, 175.0, 175.34, 177.0, 170.0, 187.0, 187.0, 195.0, 170.0, 184.0, 185.0, 175.34, 167.0, 175.34, 193.0, 175.34, 174.0, 211.0, 175.0, 181.0, 186.0, 175.34, 163.0, 185.0, 175.34, 167.0, 168.0, 175.34, 175.0, 180.0, 154.0, 175.34, 176.0, 175.34, 163.0, 173.0, 175.34, 176.0, 169.0, 165.0, 187.0, 185.0, 180.0, 163.0, 174.0, 150.0, 185.0, 177.0, 170.0, 188.0, 160.0, 157.0, 188.0, 184.0, 175.34, 170.0, 178.0, 171.0, 178.0, 175.34, 180.0, 166.0, 159.0, 152.0, 179.0, 185.0, 174.0, 173.0, 176.0, 175.34, 175.34, 189.0, 172.0, 184.0, 165.0, 175.34, 172.0, 164.0, 179.0, 165.0, 178.0, 183.0, 178.0, 185.0, 180.0, 175.34, 183.0, 168.0, 178.0, 187.0, 185.0, 179.0, 160.0, 170.0, 152.0, 175.34, 175.0, 185.0, 175.34, 179.0, 152.0, 181.0, 175.0, 175.0, 165.0, 176.0, 175.34, 198.0, 175.34, 176.0, 160.0, 175.34, 186.0, 175.34, 162.0, 175.0, 168.0, 183.0, 185.0, 180.0, 171.0, 175.34, 180.0, 175.34, 163.0, 177.0, 171.0, 182.0, 196.0, 186.0, 175.34, 190.0, 188.0, 192.0, 181.0, 175.34, 163.0, 170.0, 170.0, 186.0, 155.0, 183.0, 174.0, 175.34, 175.34, 190.0, 164.0, 206.0, 175.34, 168.0, 188.0, 175.34, 173.0, 178.0, 178.0, 174.0, 185.0, 168.0, 188.0, 183.0, 204.0, 165.0, 175.34, 170.0, 175.34, 168.0, 172.0, 169.0, 175.34, 196.0, 155.0, 183.0, 185.0, 167.0, 165.0, 175.0, 186.0, 172.0, 165.0, 173.0, 174.0, 175.34, 171.0, 176.0, 175.34, 186.0, 158.0, 175.34, 175.0, 170.0, 190.0, 189.0, 187.0, 172.0, 168.0, 175.34, 185.0, 175.34, 173.0, 186.0, 170.0, 175.34, 156.0, 174.0, 173.0, 167.0, 160.0, 190.0, 172.0, 170.0, 186.0, 183.0, 190.0, 190.0, 175.34, 180.0, 175.0, 175.0, 168.0, 165.0, 175.0, 193.0, 164.0, 175.34, 185.0, 193.0, 178.0, 185.0, 175.34, 169.0, 187.0, 175.34, 169.0, 193.0, 175.34, 178.0, 176.0, 175.34, 175.34, 190.0, 170.0, 179.0, 170.0, 190.0, 165.0, 183.0, 178.0, 180.0, 175.34, 188.0, 153.0, 151.0, 175.34, 175.0, 179.0, 175.34, 175.34, 175.34, 192.0, 165.0, 158.0, 175.34, 175.34, 188.0, 178.0, 168.0, 168.0, 185.0, 154.0, 198.0, 175.34, 175.34, 170.0, 175.34, 181.0, 181.0, 184.0, 175.34, 172.0, 183.0, 175.34, 166.0, 175.34, 175.34, 175.34, 180.0, 175.34, 175.34, 175.0, 170.0, 165.0, 188.0, 163.0, 179.0, 157.0, 160.0, 183.0, 175.34, 160.0, 175.34, 168.0, 153.0, 173.0, 175.34, 180.0, 175.34, 175.0, 175.34, 175.34, 168.0, 182.0, 175.34, 183.0, 175.34, 175.34, 188.0, 175.34, 180.0, 162.0, 176.0, 163.0, 175.34, 195.0, 175.0, 170.0, 174.0, 160.0, 174.0, 175.34, 180.0, 173.0, 180.0, 175.34, 175.34, 193.0, 168.0, 175.34, 175.0, 193.0, 182.0, 170.0, 175.34, 180.0, 180.0, 169.0, 175.34, 175.0, 158.0, 188.0, 168.0, 178.0, 194.0, 175.34, 178.0, 158.0, 187.0, 175.34, 180.0, 170.0, 155.0, 175.0, 180.0, 190.0, 180.0, 175.34, 175.34, 175.34, 180.0, 170.0, 168.0, 190.0, 158.0, 196.0, 175.34, 168.0, 188.0, 170.0, 169.0, 166.0, 168.0, 163.0, 170.0, 174.0, 175.34, 170.0, 185.0, 175.34, 175.34, 164.0, 183.0, 191.0, 175.34, 171.0, 175.0, 184.0, 171.0, 188.0, 175.34, 171.0, 178.0, 187.0, 162.0, 168.0, 176.0, 183.0, 183.0, 172.0, 164.0, 176.0, 165.0, 178.0, 165.0, 180.0, 163.0, 175.34, 170.0, 163.0, 178.0, 175.34, 178.0, 183.0, 172.0, 178.0, 188.0, 180.0, 175.34, 191.0, 171.0, 181.0, 160.0, 170.0, 175.34, 178.0, 195.0, 180.0, 176.0, 153.0, 167.0, 163.0, 175.34, 175.34, 180.0, 177.0, 183.0, 175.34, 173.0, 162.0, 175.34, 178.0, 175.34, 178.0, 181.0, 166.0, 175.34, 170.0, 175.0, 170.0, 176.0, 190.0, 173.0, 175.34, 167.0, 162.0, 173.0, 175.34, 175.34, 176.0, 156.0, 182.0, 189.0, 175.34, 163.0, 180.0, 159.0, 175.34, 180.0, 171.0, 185.0, 157.0, 154.0, 175.34, 184.0, 189.0, 190.0, 180.0, 175.34, 180.0, 175.34, 173.0, 181.0, 170.0, 178.0, 172.0, 158.0, 167.0, 175.34, 188.0, 180.0, 161.0, 164.0, 171.0, 167.0, 180.0, 175.34, 173.0, 167.0, 153.0, 188.0, 171.0, 175.0, 175.34, 170.0, 160.0, 178.0, 175.0, 183.0, 191.0, 175.34, 164.0, 157.0, 179.0, 167.0, 181.0, 151.0, 169.0, 175.34, 173.0, 163.0, 171.0, 166.0, 175.34, 167.0, 172.0, 191.0, 175.34, 190.0, 179.0, 201.0, 199.0, 185.0, 175.34, 155.0, 178.0, 183.0, 171.0, 175.34, 180.0, 175.0, 160.0, 175.34, 175.34, 175.34, 182.0, 173.0, 172.0, 175.34, 175.34, 161.0, 172.0, 188.0, 175.34, 180.0, 173.0, 175.34, 185.0, 180.0, 175.34, 186.0, 175.34, 175.34, 181.0, 190.0, 163.0, 163.0, 172.0, 187.0, 165.0, 187.0, 175.34, 175.34, 186.0, 175.34, 168.0, 175.34, 170.0, 175.34, 174.0, 166.0, 188.0, 177.0, 178.0, 165.0, 162.0, 186.0, 175.34, 178.0, 159.0, 175.0, 180.0, 168.0, 179.0, 167.0, 175.34, 192.0, 175.34, 175.34, 175.34, 168.0, 188.0, 184.0, 185.0, 170.0, 166.0, 178.0, 176.0, 177.0, 175.34, 175.34, 175.34, 174.0, 175.34, 175.34, 192.0, 177.0, 168.0, 175.34, 175.34, 167.0, 157.0, 164.0, 172.0, 162.0, 175.0, 177.0, 182.0, 183.0, 183.0, 175.34, 186.0, 184.0, 166.0, 185.0, 160.0, 175.0, 158.0, 168.0, 181.0, 174.0, 161.0, 152.0, 187.0, 186.0, 179.0, 160.0, 175.34, 172.0, 180.0, 177.0, 165.0, 181.0, 177.0, 159.0, 190.0, 165.0, 175.34, 180.0, 175.34, 175.34, 183.0, 175.34, 172.0, 173.0, 193.0, 175.34, 171.0, 179.0, 175.34, 175.34, 206.0, 182.0, 165.0, 178.0, 167.0, 160.0, 175.34, 168.0, 185.0, 187.0, 193.0, 175.0, 168.0, 175.34, 157.0, 168.0, 175.0, 185.0, 174.0, 175.34, 181.0, 182.0, 175.34, 160.0, 170.0, 178.0, 175.34, 178.0, 175.34, 177.0, 177.0, 183.0, 170.0, 180.0, 175.34, 165.0, 175.34, 175.34, 186.0, 175.34, 175.34, 175.34, 198.0, 175.34, 180.0, 158.0, 175.34, 175.0, 175.34, 193.0, 167.0, 175.34, 157.0, 172.0, 170.0, 168.0, 171.0, 164.0, 167.0, 180.0, 193.0, 178.0, 151.0, 180.0, 172.0, 181.0, 169.0, 160.0, 175.34, 175.34, 175.34, 186.0, 175.34, 185.0, 186.0, 175.34, 183.0, 182.0, 164.0, 170.0, 175.34, 160.0, 182.0, 168.0, 169.0, 181.0, 163.0, 175.34, 163.0, 166.0, 161.0, 175.34, 168.0, 175.34, 185.0, 175.34, 182.0, 175.34, 172.0, 175.34, 180.0, 194.0, 180.0, 169.0, 175.34, 191.0, 154.0, 162.0, 168.0, 175.34, 172.0, 175.34, 180.0, 153.0, 159.0, 183.0, 180.0, 176.0, 173.0, 183.0, 177.0, 162.0, 175.34, 184.0, 181.0, 175.34, 169.0, 174.0, 175.34, 170.0, 176.0, 175.34, 175.34, 178.0, 165.0, 174.0, 156.0, 178.0, 186.0, 175.34, 165.0, 161.0, 175.34, 175.34, 181.0, 170.0, 184.0, 167.0, 164.0, 178.0, 177.0, 172.0, 170.0, 171.0, 175.34, 180.0, 180.0, 176.0, 172.0, 178.0, 175.34, 169.0, 169.0, 179.0, 155.0, 175.34, 180.0, 168.0, 178.0, 187.0, 175.34, 194.0, 176.0, 169.0, 175.34, 183.0, 161.0, 170.0, 174.0, 170.0, 175.34, 191.0, 190.0, 169.0, 175.34, 178.0, 163.0, 175.34, 175.34, 170.0, 168.0, 168.0, 193.0, 175.34, 182.0, 175.34, 198.0, 179.0, 165.0, 168.0, 192.0, 190.0, 168.0, 189.0, 182.0, 191.0, 175.34, 179.0, 163.0, 178.0, 175.0, 175.34, 174.0, 175.34, 174.0, 183.0, 196.0, 193.0, 183.0, 175.34, 157.0, 174.0, 182.0, 180.0, 191.0, 151.0, 177.0, 176.0, 168.0, 192.0, 181.0, 175.34, 168.0, 170.0, 168.0, 161.0, 175.34, 197.0, 182.0, 173.0, 190.0, 177.0, 175.34, 168.0, 183.0, 174.0, 180.0, 171.0, 175.34, 175.0, 176.0, 176.0, 172.0, 160.0, 136.0, 166.0, 187.0, 175.34, 175.34, 180.0, 175.34, 181.0, 172.0, 175.34, 167.0, 175.34, 180.0, 175.34, 173.0, 176.0, 180.0, 163.0, 175.34, 182.0, 175.34, 163.0, 175.0, 178.0, 191.0, 175.34, 164.0, 172.0, 175.34, 182.0, 186.0, 175.34, 165.0, 165.0, 175.34, 173.0, 174.0, 170.0, 175.34, 195.0, 175.34, 168.0, 180.0, 175.34, 190.0, 181.0, 182.0, 177.0, 175.34, 163.0, 164.0, 165.0, 155.0, 185.0, 196.0, 185.0, 178.0, 170.0, 174.0, 187.0, 175.34, 178.0, 175.34, 193.0, 185.0, 175.0, 163.0, 183.0, 188.0, 177.0, 175.34, 170.0, 190.0, 176.0, 170.0, 175.34, 178.0, 167.0, 179.0, 170.0, 167.0, 180.0, 183.0, 175.34, 175.34, 178.0, 168.0, 166.0, 182.0, 188.0, 176.0, 175.34, 170.0, 172.0, 175.34, 165.0, 197.0, 163.0, 173.0, 180.0, 180.0, 182.0, 168.0, 181.0, 186.0, 175.0, 205.0, 173.0, 175.34, 174.0, 180.0, 180.0, 181.0, 183.0, 201.0, 175.34, 175.34, 171.0, 185.0, 178.0, 175.34, 167.0, 167.0, 175.34, 164.0, 193.0, 175.34, 175.34, 174.0, 180.0, 175.34, 157.0, 160.0, 181.0, 177.0, 182.0, 165.0, 162.0, 175.34, 162.0, 179.0, 173.0, 193.0, 175.34, 175.34, 186.0, 175.34, 182.0, 164.0, 200.0, 176.0, 183.0, 192.0, 192.0, 159.0, 175.34, 151.0, 170.0, 163.0, 183.0, 175.34, 184.0, 180.0, 193.0, 170.0, 175.34, 178.0, 175.34, 175.34, 186.0, 187.0, 182.0, 175.34, 162.0, 168.0, 182.0, 175.34, 186.0, 176.0, 175.34, 185.0, 172.0, 175.34, 160.0, 175.34, 193.0, 182.0, 156.0, 175.34, 165.0, 185.0, 169.0, 159.0, 164.0, 172.0, 170.0, 174.0, 168.0, 175.34, 169.0, 172.0, 175.0, 178.0, 190.0, 205.0, 167.0, 175.34, 178.0, 167.0, 164.0, 175.34, 175.0, 175.34, 170.0, 177.0, 163.0, 172.0, 172.0, 174.0, 175.34, 153.0, 175.0, 180.0, 180.0, 168.0, 187.0, 167.0, 188.0, 173.0, 179.0, 175.34, 180.0, 186.0, 160.0, 175.34, 166.0, 175.0, 178.0, 192.0, 182.0, 178.0, 169.0, 177.0, 170.0, 191.0, 167.0, 175.34, 167.0, 189.0, 174.0, 168.0, 175.34, 175.34, 191.0, 172.0, 175.0, 175.34, 175.34, 182.0, 181.0, 178.0, 183.0, 162.0, 189.0, 173.0, 175.34, 175.34, 176.0, 172.0, 174.0, 179.0, 180.0, 171.0, 175.34, 160.0, 175.34, 168.0, 180.0, 177.0, 179.0, 164.0, 166.0, 168.0, 166.0, 168.0, 175.34, 175.34, 184.0, 175.34, 169.0, 172.0, 178.0, 175.34, 175.34, 186.0, 170.0, 175.34, 175.34, 170.0, 175.34, 182.0, 175.34, 170.0, 162.0, 178.0, 166.0, 174.0, 175.34, 183.0, 176.0, 175.34, 163.0, 178.0, 157.0, 170.0, 186.0, 175.34, 178.0, 156.0, 173.0, 175.34, 173.0, 175.34, 193.0, 174.0, 180.0, 195.0, 170.0, 186.0, 165.0, 189.0, 175.34, 180.0, 169.0, 185.0, 186.0, 175.34, 196.0, 175.0, 177.0, 183.0, 203.0, 185.0, 175.34, 178.0, 185.0, 168.0, 175.0, 170.0, 173.0, 165.0, 175.34, 175.0, 174.0, 172.0, 175.34, 167.0, 152.0, 175.34, 175.34, 175.34, 175.34, 175.34, 170.0, 177.0, 185.0, 164.0, 175.34, 151.0, 156.0, 180.0, 175.34, 165.0, 189.0, 175.34, 150.0, 193.0, 157.0, 187.0, 159.0, 175.34, 156.0, 164.0, 168.0, 169.0, 175.0, 175.34, 164.0, 177.0, 184.0, 176.0, 183.0, 193.0, 204.0, 168.0, 170.0, 175.34, 165.0, 180.0, 175.34, 172.0, 165.0, 175.34, 175.34, 200.0, 182.0, 163.0, 174.0, 161.0, 183.0, 175.34, 178.0, 166.0, 175.34, 174.0, 170.0, 168.0, 163.0, 173.0, 175.34, 167.0, 175.34, 175.34, 176.0, 175.0, 175.34, 165.0, 152.0, 175.34, 168.0, 182.0, 170.0, 163.0, 175.34, 182.0, 171.0, 180.0, 168.0, 181.0, 175.34, 169.0, 181.0, 166.0, 169.0, 188.0, 168.0, 175.34, 173.0, 172.0, 175.34, 188.0, 184.0, 182.0, 180.0, 165.0, 163.0, 182.0, 175.0, 178.0, 192.0, 175.0, 166.0, 185.0, 171.0, 173.0, 171.0, 173.0, 160.0, 186.0, 170.0, 185.0, 175.34, 193.0, 180.0, 175.34, 165.0, 190.0, 176.0, 161.0, 175.34, 160.0, 184.0, 175.0, 171.0, 188.0, 182.0, 175.0, 175.34, 190.0, 188.0, 182.0, 172.0, 175.34, 170.0, 170.0, 175.34, 175.34, 165.0, 180.0, 175.34, 175.34, 163.0, 165.0, 186.0, 166.0, 168.0, 182.0, 175.34, 160.0, 174.0, 170.0, 175.34, 175.34, 163.0, 170.0, 178.0, 175.34, 171.0, 187.0, 190.0, 175.0, 168.0, 196.0, 164.0, 178.0, 171.0, 172.0, 169.0, 175.34, 183.0, 175.34, 177.0, 177.0, 188.0, 186.0, 173.0, 193.0, 150.0, 175.34, 165.0, 174.0, 181.0, 190.0, 172.0, 177.0, 178.0, 170.0, 162.0, 175.34, 148.0, 188.0, 175.34, 175.34, 176.0, 175.34, 180.0, 170.0, 183.0, 169.0, 158.0, 184.0, 192.0, 186.0, 183.0, 175.0, 167.0, 182.0, 181.0, 175.0, 168.0, 186.0, 168.0, 175.34, 175.0, 175.34, 175.34, 156.0, 175.0, 188.0, 160.0, 183.0, 196.0, 168.0, 173.0, 177.0, 178.0, 175.34, 162.0, 155.0, 183.0, 165.0, 175.0, 170.0, 185.0, 139.0, 179.0, 162.0, 173.0, 167.0, 173.0, 173.0, 184.0, 175.34, 179.0, 175.0, 175.0, 166.0, 183.0, 175.34, 175.34, 178.0, 155.0, 175.0, 190.0, 188.0, 175.34, 152.0, 178.0, 146.0, 185.0, 177.0, 175.0, 186.0, 174.0, 175.34, 154.0, 179.0, 170.0, 175.0, 197.0, 173.0, 175.34, 174.0, 182.0, 180.0, 176.0, 155.0, 193.0, 183.0, 171.0, 165.0, 160.0, 178.0, 178.0, 168.0, 184.0, 175.34, 156.0, 160.0, 165.0, 174.0, 175.34, 170.0, 167.0, 170.0, 175.34, 180.0, 173.0, 185.0, 175.34, 164.0, 174.0, 183.0, 179.0, 173.0, 184.0, 168.0, 180.0, 170.0, 186.0, 179.0, 183.0, 170.0, 158.0, 170.0, 179.0, 175.34, 184.0, 180.0, 173.0, 178.0, 164.0, 175.34, 171.0, 180.0, 181.0, 172.0, 175.0, 167.0, 167.0, 168.0, 180.0, 175.34, 182.0, 162.0, 180.0, 175.34, 180.0, 168.0, 175.34, 175.34, 185.0, 178.0, 175.34, 174.0, 192.0, 175.34, 183.0, 184.0, 175.34, 180.0, 180.0, 170.0, 175.0, 183.0, 171.0, 173.0, 184.0, 201.0, 175.34, 170.0, 200.0, 180.0, 171.0, 164.0, 164.0, 175.0, 178.0, 186.0, 180.0, 175.34, 177.0, 175.0, 175.34, 182.0, 179.0, 155.0, 175.0, 163.0, 175.34, 178.0, 175.34, 175.34, 183.0, 167.0, 184.0, 175.0, 198.0, 175.34, 175.0, 173.0, 180.0, 170.0, 162.0, 175.34, 170.0, 172.0, 179.0, 178.0, 170.0, 183.0, 185.0, 170.0, 183.0, 176.0, 154.0, 188.0, 183.0, 170.0, 170.0, 175.34, 175.0, 160.0, 180.0, 167.0, 171.0, 183.0, 177.0, 165.0, 185.0, 183.0, 164.0, 175.34, 175.34, 177.0, 175.34, 171.0, 170.0, 170.0, 178.0, 175.34, 178.0, 176.0, 174.0, 172.0, 180.0, 176.0, 170.0, 175.34, 169.0, 183.0, 168.0, 175.34, 172.0, 174.0, 170.0, 159.0, 167.0, 171.0, 175.34, 192.0, 172.0, 179.0, 181.0, 179.0, 172.0, 172.0, 179.0, 175.0, 178.0, 175.34, 169.0, 193.0, 175.34, 185.0, 175.34, 186.0, 175.34, 188.0, 163.0, 187.0, 162.0, 187.0, 180.0, 175.34, 175.34, 179.0, 175.0, 178.0, 163.0, 160.0, 171.0, 174.0, 175.34, 175.34, 180.0, 178.0, 167.0, 164.0, 156.0, 152.0, 172.0, 162.0, 167.0, 181.0, 175.34, 175.34, 175.34, 178.0, 178.0, 188.0, 197.0, 183.0, 188.0, 164.0, 175.34, 179.0, 170.0, 169.0, 168.0, 160.0, 183.0, 168.0, 177.0, 167.0, 174.0, 189.0, 167.0, 198.0, 184.0, 182.0, 155.0, 171.0, 175.34, 181.0, 176.0, 175.34, 180.0, 178.0, 149.0, 178.0, 175.34, 183.0, 161.0, 170.0, 174.0, 175.34, 175.34, 170.0, 182.0, 161.0, 175.34, 178.0, 177.0, 176.0, 170.0, 175.34, 170.0, 183.0, 180.0, 175.34, 176.0, 175.34, 168.0, 185.0, 172.0, 175.34, 175.34, 165.0] 2800\n"
     ]
    }
   ],
   "source": [
    "# Ejecutamos el código para obtener una muestra de k=2800, y vemos que la media de altura con el muestreo Reservoir Sampling \n",
    "# es de 175.26 cm, prácticamente idéntico a los muestreos anteriores.\n",
    " \n",
    "if __name__ == \"__main__\":\n",
    "    stream = file['Height'].round(2)\n",
    "    n = len(stream)\n",
    "    k = 2800\n",
    "    selectKItems(stream, n, k)"
   ]
  },
  {
   "cell_type": "code",
   "execution_count": null,
   "metadata": {},
   "outputs": [],
   "source": []
  }
 ],
 "metadata": {
  "kernelspec": {
   "display_name": "Python 3",
   "language": "python",
   "name": "python3"
  },
  "language_info": {
   "codemirror_mode": {
    "name": "ipython",
    "version": 3
   },
   "file_extension": ".py",
   "mimetype": "text/x-python",
   "name": "python",
   "nbconvert_exporter": "python",
   "pygments_lexer": "ipython3",
   "version": "3.7.4"
  }
 },
 "nbformat": 4,
 "nbformat_minor": 4
}
